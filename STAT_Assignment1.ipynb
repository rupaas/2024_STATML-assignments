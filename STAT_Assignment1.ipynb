{
  "nbformat": 4,
  "nbformat_minor": 0,
  "metadata": {
    "colab": {
      "provenance": []
    },
    "kernelspec": {
      "name": "python3",
      "display_name": "Python 3"
    },
    "language_info": {
      "name": "python"
    }
  },
  "cells": [
    {
      "cell_type": "markdown",
      "source": [
        "Given the following dataset: X={2.3,2.5,3.6,2.8,3.1,2.9,3.2,2.7,2.8,3.0}. Compute the density of the\n",
        "data using a histogram with 5 bins.\n"
      ],
      "metadata": {
        "id": "97OFekVAWbNY"
      }
    },
    {
      "cell_type": "code",
      "source": [
        "import matplotlib.pyplot as plt\n",
        "import numpy as np\n",
        "X={2.3,2.5,3.6,2.8,3.1,2.9,3.2,2.7,2.8,3.0}\n",
        "#X = [2.3,2.5,3.6,2.8,3.1,2.9,3.2,2.7,2.8,3.0]\n",
        "plt.hist(X, bins=5, density = True, alpha = 1, color = 'green', edgecolor='black')\n",
        "plt.grid(True)\n",
        "plt.xlabel('Value')\n",
        "plt.ylabel('Density')\n",
        "plt.title('Histogram Respresentation')\n",
        "plt.show()"
      ],
      "metadata": {
        "colab": {
          "base_uri": "https://localhost:8080/",
          "height": 472
        },
        "id": "LltQ1MOWWkL_",
        "outputId": "6f44ac1b-d260-43bd-a8d6-4ef96d2cef70"
      },
      "execution_count": null,
      "outputs": [
        {
          "output_type": "display_data",
          "data": {
            "text/plain": [
              "<Figure size 640x480 with 1 Axes>"
            ],
            "image/png": "[encoded data removed]"
          },
          "metadata": {}
        }
      ]
    },
    {
      "cell_type": "markdown",
      "source": [
        "Find Mean, Median, Mode , Variance , Standard deviation , Range , Interquartile Range (IQR),\n",
        "Skewness ,Kurtosis of x and y.\n",
        "Dependant_variables = [4,5,8,2,4,2,5]\n",
        "Independable_variabless = [5,6,3,8,3,7,8]"
      ],
      "metadata": {
        "id": "0c4qPTC8XUPR"
      }
    },
    {
      "cell_type": "code",
      "source": [
        "import numpy as np\n",
        "from scipy import stats\n",
        "Dependant_variables = [4,5,8,2,4,2,5]\n",
        "Independable_variables = [5,6,3,8,3,7,8]\n",
        "#For Dependant Variables\n",
        "DE_mean = np.mean(Dependant_variables)\n",
        "DE_median = np.median(Dependant_variables)\n",
        "DE_mode = stats.mode(Dependant_variables)\n",
        "DE_variance = np.var(Dependant_variables)\n",
        "DE_std = np.std(Dependant_variables)\n",
        "DE_range = np.max(Dependant_variables) - np.min(Dependant_variables)\n",
        "DE_IQR = stats.iqr(Dependant_variables)\n",
        "DE_skewness = stats.skew(Dependant_variables)\n",
        "DE_kurtosis = stats.kurtosis(Dependant_variables)\n",
        "'''NOW PRINT THE RESULTS'''\n",
        "print(\"Mean of Dependable Variables: \", DE_mean)\n",
        "print(\"Median of Dependable Variables: \", DE_median)\n",
        "print(\"Mode of Dependable Variables: \", DE_mode)\n",
        "print(\"Variance of Dependable Variables: \", DE_variance)\n",
        "print(\"Standard Deviation of Dependable Variables: \", DE_std)\n",
        "print(\"Range of Dependable Variables: \", DE_range)\n",
        "print(\"IQR of Dependable Variables: \", DE_IQR)\n",
        "print(\"Skewness of Dependable Variables: \", DE_skewness)\n",
        "print(\"Kurtosis of Dependable Variables: \", DE_kurtosis)\n",
        "print()\n",
        "#For Independable Variables\n",
        "IN_mean = np.mean(Independable_variables)\n",
        "IN_median = np.median(Independable_variables)\n",
        "IN_mode = stats.mode(Independable_variables)\n",
        "IN_variance = np.var(Independable_variables)\n",
        "IN_std = np.std(Independable_variables)\n",
        "IN_range = np.max(Independable_variables) - np.min(Independable_variables)\n",
        "IN_IQR = stats.iqr(Independable_variables)\n",
        "IN_skewness = stats.skew(Independable_variables)\n",
        "IN_kurtosis = stats.kurtosis(Independable_variables)\n",
        "'''NOW PRINT THE RESULTS'''\n",
        "print(\"Mean of Independable Variables: \", IN_mean)\n",
        "print(\"Median of Independable Variables: \", IN_median)\n",
        "print(\"Mode of Independable Variables: \", IN_mode)\n",
        "print(\"Variance of Independable Variables: \", IN_variance)\n",
        "print(\"Standard Deviation of Independable Variables: \", IN_std)\n",
        "print(\"Range of Independable Variables: \", IN_range)\n",
        "print(\"IQR of Independable Variables: \", IN_IQR)\n",
        "print(\"Skewness of Independable Variables: \", IN_skewness)\n",
        "print(\"Kurtosis of Independable Variables: \", IN_kurtosis)"
      ],
      "metadata": {
        "colab": {
          "base_uri": "https://localhost:8080/"
        },
        "id": "CZGk59emXVsx",
        "outputId": "5164df98-6a44-40be-c2d7-0f1727395554"
      },
      "execution_count": null,
      "outputs": [
        {
          "output_type": "stream",
          "name": "stdout",
          "text": [
            "Mean of Dependable Variables:  4.285714285714286\n",
            "Median of Dependable Variables:  4.0\n",
            "Mode of Dependable Variables:  ModeResult(mode=2, count=2)\n",
            "Variance of Dependable Variables:  3.6326530612244894\n",
            "Standard Deviation of Dependable Variables:  1.9059520091609048\n",
            "Range of Dependable Variables:  6\n",
            "IQR of Dependable Variables:  2.0\n",
            "Skewness of Dependable Variables:  0.5785710902698393\n",
            "Kurtosis of Dependable Variables:  -0.34282287589950755\n",
            "\n",
            "Mean of Independable Variables:  5.714285714285714\n",
            "Median of Independable Variables:  6.0\n",
            "Mode of Independable Variables:  ModeResult(mode=3, count=2)\n",
            "Variance of Independable Variables:  3.918367346938776\n",
            "Standard Deviation of Independable Variables:  1.979486637221574\n",
            "Range of Independable Variables:  5\n",
            "IQR of Independable Variables:  3.5\n",
            "Skewness of Independable Variables:  -0.26386711521557127\n",
            "Kurtosis of Independable Variables:  -1.4541015625000002\n"
          ]
        }
      ]
    },
    {
      "cell_type": "markdown",
      "source": [
        "From the above data Find Mean, Median, Mode, Variance, Standard deviation, Range , Interquartile Range (IQR), Skewness ,Kurtosis of each feature."
      ],
      "metadata": {
        "id": "D-rjI0sHX9mC"
      }
    },
    {
      "cell_type": "code",
      "source": [
        "import numpy as np\n",
        "from scipy import stats\n",
        "Dependant_variables = [4,5,8,2,4,2,5]\n",
        "Independable_variables = [5,6,3,8,3,7,8]\n",
        "#For Dependant Variables\n",
        "DE_mean = np.mean(Dependant_variables)\n",
        "DE_median = np.median(Dependant_variables)\n",
        "DE_mode = stats.mode(Dependant_variables)\n",
        "DE_variance = np.var(Dependant_variables)\n",
        "DE_std = np.std(Dependant_variables)\n",
        "DE_range = np.max(Dependant_variables) - np.min(Dependant_variables)\n",
        "DE_IQR = stats.iqr(Dependant_variables)\n",
        "DE_skewness = stats.skew(Dependant_variables)\n",
        "DE_kurtosis = stats.kurtosis(Dependant_variables)\n",
        "'''NOW PRINT THE RESULTS'''\n",
        "print(\"Mean of Dependable Variables: \", DE_mean)\n",
        "print(\"Median of Dependable Variables: \", DE_median)\n",
        "print(\"Mode of Dependable Variables: \", DE_mode)\n",
        "print(\"Variance of Dependable Variables: \", DE_variance)\n",
        "print(\"Standard Deviation of Dependable Variables: \", DE_std)\n",
        "print(\"Range of Dependable Variables: \", DE_range)\n",
        "print(\"IQR of Dependable Variables: \", DE_IQR)\n",
        "print(\"Skewness of Dependable Variables: \", DE_skewness)\n",
        "print(\"Kurtosis of Dependable Variables: \", DE_kurtosis)\n",
        "print()\n",
        "#For Independable Variables\n",
        "IN_mean = np.mean(Independable_variables)\n",
        "IN_median = np.median(Independable_variables)\n",
        "IN_mode = stats.mode(Independable_variables)\n",
        "IN_variance = np.var(Independable_variables)\n",
        "IN_std = np.std(Independable_variables)\n",
        "IN_range = np.max(Independable_variables) - np.min(Independable_variables)\n",
        "IN_IQR = stats.iqr(Independable_variables)\n",
        "IN_skewness = stats.skew(Independable_variables)\n",
        "IN_kurtosis = stats.kurtosis(Independable_variables)\n",
        "'''NOW PRINT THE RESULTS'''\n",
        "print(\"Mean of Independable Variables: \", IN_mean)\n",
        "print(\"Median of Independable Variables: \", IN_median)\n",
        "print(\"Mode of Independable Variables: \", IN_mode)\n",
        "print(\"Variance of Independable Variables: \", IN_variance)\n",
        "print(\"Standard Deviation of Independable Variables: \", IN_std)\n",
        "print(\"Range of Independable Variables: \", IN_range)\n",
        "print(\"IQR of Independable Variables: \", IN_IQR)\n",
        "print(\"Skewness of Independable Variables: \", IN_skewness)\n",
        "print(\"Kurtosis of Independable Variables: \", IN_kurtosis)\n"
      ],
      "metadata": {
        "colab": {
          "base_uri": "https://localhost:8080/"
        },
        "id": "etXlVFDPYCFL",
        "outputId": "c63ad07f-4e44-405b-8e28-00cc5f0736bd"
      },
      "execution_count": 6,
      "outputs": [
        {
          "output_type": "stream",
          "name": "stdout",
          "text": [
            "Mean of Dependable Variables:  4.285714285714286\n",
            "Median of Dependable Variables:  4.0\n",
            "Mode of Dependable Variables:  ModeResult(mode=2, count=2)\n",
            "Variance of Dependable Variables:  3.6326530612244894\n",
            "Standard Deviation of Dependable Variables:  1.9059520091609048\n",
            "Range of Dependable Variables:  6\n",
            "IQR of Dependable Variables:  2.0\n",
            "Skewness of Dependable Variables:  0.5785710902698393\n",
            "Kurtosis of Dependable Variables:  -0.34282287589950755\n",
            "\n",
            "Mean of Independable Variables:  5.714285714285714\n",
            "Median of Independable Variables:  6.0\n",
            "Mode of Independable Variables:  ModeResult(mode=3, count=2)\n",
            "Variance of Independable Variables:  3.918367346938776\n",
            "Standard Deviation of Independable Variables:  1.979486637221574\n",
            "Range of Independable Variables:  5\n",
            "IQR of Independable Variables:  3.5\n",
            "Skewness of Independable Variables:  -0.26386711521557127\n",
            "Kurtosis of Independable Variables:  -1.4541015625000002\n"
          ]
        }
      ]
    },
    {
      "cell_type": "markdown",
      "source": [
        "From the above data Find Mean, Median, Mode, Variance, Standard deviation, Range , Interquartile Range (IQR), Skewness ,Kurtosis of each feature."
      ],
      "metadata": {
        "id": "wonD8pKYbDcD"
      }
    },
    {
      "cell_type": "code",
      "source": [
        "import numpy as np\n",
        "from scipy import stats\n",
        "import pandas as pd\n",
        "data = pd.read_csv('/Housing.csv')\n",
        "data.head()\n"
      ],
      "metadata": {
        "colab": {
          "base_uri": "https://localhost:8080/",
          "height": 226
        },
        "id": "HrJ2Ku3gbF0p",
        "outputId": "c7f76bc6-b805-482c-e34a-9a682e3cc1f5"
      },
      "execution_count": 9,
      "outputs": [
        {
          "output_type": "execute_result",
          "data": {
            "text/plain": [
              "      price  area  bedrooms  bathrooms  stories mainroad guestroom basement  \\\n",
              "0  13300000  7420         4          2        3      yes        no       no   \n",
              "1  12250000  8960         4          4        4      yes        no       no   \n",
              "2  12250000  9960         3          2        2      yes        no      yes   \n",
              "3  12215000  7500         4          2        2      yes        no      yes   \n",
              "4  11410000  7420         4          1        2      yes       yes      yes   \n",
              "\n",
              "  hotwaterheating airconditioning  parking prefarea furnishingstatus  \n",
              "0              no             yes        2      yes        furnished  \n",
              "1              no             yes        3       no        furnished  \n",
              "2              no              no        2      yes   semi-furnished  \n",
              "3              no             yes        3      yes        furnished  \n",
              "4              no             yes        2       no        furnished  "
            ],
            "text/html": [
              "\n",
              "  <div id=\"df-8e054629-8dcb-4bad-add4-036097c7ad43\" class=\"colab-df-container\">\n",
              "    <div>\n",
              "<style scoped>\n",
              "    .dataframe tbody tr th:only-of-type {\n",
              "        vertical-align: middle;\n",
              "    }\n",
              "\n",
              "    .dataframe tbody tr th {\n",
              "        vertical-align: top;\n",
              "    }\n",
              "\n",
              "    .dataframe thead th {\n",
              "        text-align: right;\n",
              "    }\n",
              "</style>\n",
              "<table border=\"1\" class=\"dataframe\">\n",
              "  <thead>\n",
              "    <tr style=\"text-align: right;\">\n",
              "      <th></th>\n",
              "      <th>price</th>\n",
              "      <th>area</th>\n",
              "      <th>bedrooms</th>\n",
              "      <th>bathrooms</th>\n",
              "      <th>stories</th>\n",
              "      <th>mainroad</th>\n",
              "      <th>guestroom</th>\n",
              "      <th>basement</th>\n",
              "      <th>hotwaterheating</th>\n",
              "      <th>airconditioning</th>\n",
              "      <th>parking</th>\n",
              "      <th>prefarea</th>\n",
              "      <th>furnishingstatus</th>\n",
              "    </tr>\n",
              "  </thead>\n",
              "  <tbody>\n",
              "    <tr>\n",
              "      <th>0</th>\n",
              "      <td>13300000</td>\n",
              "      <td>7420</td>\n",
              "      <td>4</td>\n",
              "      <td>2</td>\n",
              "      <td>3</td>\n",
              "      <td>yes</td>\n",
              "      <td>no</td>\n",
              "      <td>no</td>\n",
              "      <td>no</td>\n",
              "      <td>yes</td>\n",
              "      <td>2</td>\n",
              "      <td>yes</td>\n",
              "      <td>furnished</td>\n",
              "    </tr>\n",
              "    <tr>\n",
              "      <th>1</th>\n",
              "      <td>12250000</td>\n",
              "      <td>8960</td>\n",
              "      <td>4</td>\n",
              "      <td>4</td>\n",
              "      <td>4</td>\n",
              "      <td>yes</td>\n",
              "      <td>no</td>\n",
              "      <td>no</td>\n",
              "      <td>no</td>\n",
              "      <td>yes</td>\n",
              "      <td>3</td>\n",
              "      <td>no</td>\n",
              "      <td>furnished</td>\n",
              "    </tr>\n",
              "    <tr>\n",
              "      <th>2</th>\n",
              "      <td>12250000</td>\n",
              "      <td>9960</td>\n",
              "      <td>3</td>\n",
              "      <td>2</td>\n",
              "      <td>2</td>\n",
              "      <td>yes</td>\n",
              "      <td>no</td>\n",
              "      <td>yes</td>\n",
              "      <td>no</td>\n",
              "      <td>no</td>\n",
              "      <td>2</td>\n",
              "      <td>yes</td>\n",
              "      <td>semi-furnished</td>\n",
              "    </tr>\n",
              "    <tr>\n",
              "      <th>3</th>\n",
              "      <td>12215000</td>\n",
              "      <td>7500</td>\n",
              "      <td>4</td>\n",
              "      <td>2</td>\n",
              "      <td>2</td>\n",
              "      <td>yes</td>\n",
              "      <td>no</td>\n",
              "      <td>yes</td>\n",
              "      <td>no</td>\n",
              "      <td>yes</td>\n",
              "      <td>3</td>\n",
              "      <td>yes</td>\n",
              "      <td>furnished</td>\n",
              "    </tr>\n",
              "    <tr>\n",
              "      <th>4</th>\n",
              "      <td>11410000</td>\n",
              "      <td>7420</td>\n",
              "      <td>4</td>\n",
              "      <td>1</td>\n",
              "      <td>2</td>\n",
              "      <td>yes</td>\n",
              "      <td>yes</td>\n",
              "      <td>yes</td>\n",
              "      <td>no</td>\n",
              "      <td>yes</td>\n",
              "      <td>2</td>\n",
              "      <td>no</td>\n",
              "      <td>furnished</td>\n",
              "    </tr>\n",
              "  </tbody>\n",
              "</table>\n",
              "</div>\n",
              "    <div class=\"colab-df-buttons\">\n",
              "\n",
              "  <div class=\"colab-df-container\">\n",
              "    <button class=\"colab-df-convert\" onclick=\"convertToInteractive('df-8e054629-8dcb-4bad-add4-036097c7ad43')\"\n",
              "            title=\"Convert this dataframe to an interactive table.\"\n",
              "            style=\"display:none;\">\n",
              "\n",
              "  <svg xmlns=\"http://www.w3.org/2000/svg\" height=\"24px\" viewBox=\"0 -960 960 960\">\n",
              "    <path d=\"M120-120v-720h720v720H120Zm60-500h600v-160H180v160Zm220 220h160v-160H400v160Zm0 220h160v-160H400v160ZM180-400h160v-160H180v160Zm440 0h160v-160H620v160ZM180-180h160v-160H180v160Zm440 0h160v-160H620v160Z\"/>\n",
              "  </svg>\n",
              "    </button>\n",
              "\n",
              "  <style>\n",
              "    .colab-df-container {\n",
              "      display:flex;\n",
              "      gap: 12px;\n",
              "    }\n",
              "\n",
              "    .colab-df-convert {\n",
              "      background-color: #E8F0FE;\n",
              "      border: none;\n",
              "      border-radius: 50%;\n",
              "      cursor: pointer;\n",
              "      display: none;\n",
              "      fill: #1967D2;\n",
              "      height: 32px;\n",
              "      padding: 0 0 0 0;\n",
              "      width: 32px;\n",
              "    }\n",
              "\n",
              "    .colab-df-convert:hover {\n",
              "      background-color: #E2EBFA;\n",
              "      box-shadow: 0px 1px 2px rgba(60, 64, 67, 0.3), 0px 1px 3px 1px rgba(60, 64, 67, 0.15);\n",
              "      fill: #174EA6;\n",
              "    }\n",
              "\n",
              "    .colab-df-buttons div {\n",
              "      margin-bottom: 4px;\n",
              "    }\n",
              "\n",
              "    [theme=dark] .colab-df-convert {\n",
              "      background-color: #3B4455;\n",
              "      fill: #D2E3FC;\n",
              "    }\n",
              "\n",
              "    [theme=dark] .colab-df-convert:hover {\n",
              "      background-color: #434B5C;\n",
              "      box-shadow: 0px 1px 3px 1px rgba(0, 0, 0, 0.15);\n",
              "      filter: drop-shadow(0px 1px 2px rgba(0, 0, 0, 0.3));\n",
              "      fill: #FFFFFF;\n",
              "    }\n",
              "  </style>\n",
              "\n",
              "    <script>\n",
              "      const buttonEl =\n",
              "        document.querySelector('#df-8e054629-8dcb-4bad-add4-036097c7ad43 button.colab-df-convert');\n",
              "      buttonEl.style.display =\n",
              "        google.colab.kernel.accessAllowed ? 'block' : 'none';\n",
              "\n",
              "      async function convertToInteractive(key) {\n",
              "        const element = document.querySelector('#df-8e054629-8dcb-4bad-add4-036097c7ad43');\n",
              "        const dataTable =\n",
              "          await google.colab.kernel.invokeFunction('convertToInteractive',\n",
              "                                                    [key], {});\n",
              "        if (!dataTable) return;\n",
              "\n",
              "        const docLinkHtml = 'Like what you see? Visit the ' +\n",
              "          '<a target=\"_blank\" href=https://colab.research.google.com/notebooks/data_table.ipynb>data table notebook</a>'\n",
              "          + ' to learn more about interactive tables.';\n",
              "        element.innerHTML = '';\n",
              "        dataTable['output_type'] = 'display_data';\n",
              "        await google.colab.output.renderOutput(dataTable, element);\n",
              "        const docLink = document.createElement('div');\n",
              "        docLink.innerHTML = docLinkHtml;\n",
              "        element.appendChild(docLink);\n",
              "      }\n",
              "    </script>\n",
              "  </div>\n",
              "\n",
              "\n",
              "<div id=\"df-a5b74941-7447-43cb-b94e-011dc0ef8f4b\">\n",
              "  <button class=\"colab-df-quickchart\" onclick=\"quickchart('df-a5b74941-7447-43cb-b94e-011dc0ef8f4b')\"\n",
              "            title=\"Suggest charts\"\n",
              "            style=\"display:none;\">\n",
              "\n",
              "<svg xmlns=\"http://www.w3.org/2000/svg\" height=\"24px\"viewBox=\"0 0 24 24\"\n",
              "     width=\"24px\">\n",
              "    <g>\n",
              "        <path d=\"M19 3H5c-1.1 0-2 .9-2 2v14c0 1.1.9 2 2 2h14c1.1 0 2-.9 2-2V5c0-1.1-.9-2-2-2zM9 17H7v-7h2v7zm4 0h-2V7h2v10zm4 0h-2v-4h2v4z\"/>\n",
              "    </g>\n",
              "</svg>\n",
              "  </button>\n",
              "\n",
              "<style>\n",
              "  .colab-df-quickchart {\n",
              "      --bg-color: #E8F0FE;\n",
              "      --fill-color: #1967D2;\n",
              "      --hover-bg-color: #E2EBFA;\n",
              "      --hover-fill-color: #174EA6;\n",
              "      --disabled-fill-color: #AAA;\n",
              "      --disabled-bg-color: #DDD;\n",
              "  }\n",
              "\n",
              "  [theme=dark] .colab-df-quickchart {\n",
              "      --bg-color: #3B4455;\n",
              "      --fill-color: #D2E3FC;\n",
              "      --hover-bg-color: #434B5C;\n",
              "      --hover-fill-color: #FFFFFF;\n",
              "      --disabled-bg-color: #3B4455;\n",
              "      --disabled-fill-color: #666;\n",
              "  }\n",
              "\n",
              "  .colab-df-quickchart {\n",
              "    background-color: var(--bg-color);\n",
              "    border: none;\n",
              "    border-radius: 50%;\n",
              "    cursor: pointer;\n",
              "    display: none;\n",
              "    fill: var(--fill-color);\n",
              "    height: 32px;\n",
              "    padding: 0;\n",
              "    width: 32px;\n",
              "  }\n",
              "\n",
              "  .colab-df-quickchart:hover {\n",
              "    background-color: var(--hover-bg-color);\n",
              "    box-shadow: 0 1px 2px rgba(60, 64, 67, 0.3), 0 1px 3px 1px rgba(60, 64, 67, 0.15);\n",
              "    fill: var(--button-hover-fill-color);\n",
              "  }\n",
              "\n",
              "  .colab-df-quickchart-complete:disabled,\n",
              "  .colab-df-quickchart-complete:disabled:hover {\n",
              "    background-color: var(--disabled-bg-color);\n",
              "    fill: var(--disabled-fill-color);\n",
              "    box-shadow: none;\n",
              "  }\n",
              "\n",
              "  .colab-df-spinner {\n",
              "    border: 2px solid var(--fill-color);\n",
              "    border-color: transparent;\n",
              "    border-bottom-color: var(--fill-color);\n",
              "    animation:\n",
              "      spin 1s steps(1) infinite;\n",
              "  }\n",
              "\n",
              "  @keyframes spin {\n",
              "    0% {\n",
              "      border-color: transparent;\n",
              "      border-bottom-color: var(--fill-color);\n",
              "      border-left-color: var(--fill-color);\n",
              "    }\n",
              "    20% {\n",
              "      border-color: transparent;\n",
              "      border-left-color: var(--fill-color);\n",
              "      border-top-color: var(--fill-color);\n",
              "    }\n",
              "    30% {\n",
              "      border-color: transparent;\n",
              "      border-left-color: var(--fill-color);\n",
              "      border-top-color: var(--fill-color);\n",
              "      border-right-color: var(--fill-color);\n",
              "    }\n",
              "    40% {\n",
              "      border-color: transparent;\n",
              "      border-right-color: var(--fill-color);\n",
              "      border-top-color: var(--fill-color);\n",
              "    }\n",
              "    60% {\n",
              "      border-color: transparent;\n",
              "      border-right-color: var(--fill-color);\n",
              "    }\n",
              "    80% {\n",
              "      border-color: transparent;\n",
              "      border-right-color: var(--fill-color);\n",
              "      border-bottom-color: var(--fill-color);\n",
              "    }\n",
              "    90% {\n",
              "      border-color: transparent;\n",
              "      border-bottom-color: var(--fill-color);\n",
              "    }\n",
              "  }\n",
              "</style>\n",
              "\n",
              "  <script>\n",
              "    async function quickchart(key) {\n",
              "      const quickchartButtonEl =\n",
              "        document.querySelector('#' + key + ' button');\n",
              "      quickchartButtonEl.disabled = true;  // To prevent multiple clicks.\n",
              "      quickchartButtonEl.classList.add('colab-df-spinner');\n",
              "      try {\n",
              "        const charts = await google.colab.kernel.invokeFunction(\n",
              "            'suggestCharts', [key], {});\n",
              "      } catch (error) {\n",
              "        console.error('Error during call to suggestCharts:', error);\n",
              "      }\n",
              "      quickchartButtonEl.classList.remove('colab-df-spinner');\n",
              "      quickchartButtonEl.classList.add('colab-df-quickchart-complete');\n",
              "    }\n",
              "    (() => {\n",
              "      let quickchartButtonEl =\n",
              "        document.querySelector('#df-a5b74941-7447-43cb-b94e-011dc0ef8f4b button');\n",
              "      quickchartButtonEl.style.display =\n",
              "        google.colab.kernel.accessAllowed ? 'block' : 'none';\n",
              "    })();\n",
              "  </script>\n",
              "</div>\n",
              "\n",
              "    </div>\n",
              "  </div>\n"
            ],
            "application/vnd.google.colaboratory.intrinsic+json": {
              "type": "dataframe",
              "variable_name": "data",
              "summary": "{\n  \"name\": \"data\",\n  \"rows\": 545,\n  \"fields\": [\n    {\n      \"column\": \"price\",\n      \"properties\": {\n        \"dtype\": \"number\",\n        \"std\": 1870439,\n        \"min\": 1750000,\n        \"max\": 13300000,\n        \"num_unique_values\": 219,\n        \"samples\": [\n          3773000,\n          5285000,\n          1820000\n        ],\n        \"semantic_type\": \"\",\n        \"description\": \"\"\n      }\n    },\n    {\n      \"column\": \"area\",\n      \"properties\": {\n        \"dtype\": \"number\",\n        \"std\": 2170,\n        \"min\": 1650,\n        \"max\": 16200,\n        \"num_unique_values\": 284,\n        \"samples\": [\n          6000,\n          2684,\n          5360\n        ],\n        \"semantic_type\": \"\",\n        \"description\": \"\"\n      }\n    },\n    {\n      \"column\": \"bedrooms\",\n      \"properties\": {\n        \"dtype\": \"number\",\n        \"std\": 0,\n        \"min\": 1,\n        \"max\": 6,\n        \"num_unique_values\": 6,\n        \"samples\": [\n          4,\n          3,\n          1\n        ],\n        \"semantic_type\": \"\",\n        \"description\": \"\"\n      }\n    },\n    {\n      \"column\": \"bathrooms\",\n      \"properties\": {\n        \"dtype\": \"number\",\n        \"std\": 0,\n        \"min\": 1,\n        \"max\": 4,\n        \"num_unique_values\": 4,\n        \"samples\": [\n          4,\n          3,\n          2\n        ],\n        \"semantic_type\": \"\",\n        \"description\": \"\"\n      }\n    },\n    {\n      \"column\": \"stories\",\n      \"properties\": {\n        \"dtype\": \"number\",\n        \"std\": 0,\n        \"min\": 1,\n        \"max\": 4,\n        \"num_unique_values\": 4,\n        \"samples\": [\n          4,\n          1,\n          3\n        ],\n        \"semantic_type\": \"\",\n        \"description\": \"\"\n      }\n    },\n    {\n      \"column\": \"mainroad\",\n      \"properties\": {\n        \"dtype\": \"category\",\n        \"num_unique_values\": 2,\n        \"samples\": [\n          \"no\",\n          \"yes\"\n        ],\n        \"semantic_type\": \"\",\n        \"description\": \"\"\n      }\n    },\n    {\n      \"column\": \"guestroom\",\n      \"properties\": {\n        \"dtype\": \"category\",\n        \"num_unique_values\": 2,\n        \"samples\": [\n          \"yes\",\n          \"no\"\n        ],\n        \"semantic_type\": \"\",\n        \"description\": \"\"\n      }\n    },\n    {\n      \"column\": \"basement\",\n      \"properties\": {\n        \"dtype\": \"category\",\n        \"num_unique_values\": 2,\n        \"samples\": [\n          \"yes\",\n          \"no\"\n        ],\n        \"semantic_type\": \"\",\n        \"description\": \"\"\n      }\n    },\n    {\n      \"column\": \"hotwaterheating\",\n      \"properties\": {\n        \"dtype\": \"category\",\n        \"num_unique_values\": 2,\n        \"samples\": [\n          \"yes\",\n          \"no\"\n        ],\n        \"semantic_type\": \"\",\n        \"description\": \"\"\n      }\n    },\n    {\n      \"column\": \"airconditioning\",\n      \"properties\": {\n        \"dtype\": \"category\",\n        \"num_unique_values\": 2,\n        \"samples\": [\n          \"no\",\n          \"yes\"\n        ],\n        \"semantic_type\": \"\",\n        \"description\": \"\"\n      }\n    },\n    {\n      \"column\": \"parking\",\n      \"properties\": {\n        \"dtype\": \"number\",\n        \"std\": 0,\n        \"min\": 0,\n        \"max\": 3,\n        \"num_unique_values\": 4,\n        \"samples\": [\n          3,\n          1\n        ],\n        \"semantic_type\": \"\",\n        \"description\": \"\"\n      }\n    },\n    {\n      \"column\": \"prefarea\",\n      \"properties\": {\n        \"dtype\": \"category\",\n        \"num_unique_values\": 2,\n        \"samples\": [\n          \"no\",\n          \"yes\"\n        ],\n        \"semantic_type\": \"\",\n        \"description\": \"\"\n      }\n    },\n    {\n      \"column\": \"furnishingstatus\",\n      \"properties\": {\n        \"dtype\": \"category\",\n        \"num_unique_values\": 3,\n        \"samples\": [\n          \"furnished\",\n          \"semi-furnished\"\n        ],\n        \"semantic_type\": \"\",\n        \"description\": \"\"\n      }\n    }\n  ]\n}"
            }
          },
          "metadata": {},
          "execution_count": 9
        }
      ]
    },
    {
      "cell_type": "markdown",
      "source": [
        "Mean of the data"
      ],
      "metadata": {
        "id": "dwsPAGqMgB3x"
      }
    },
    {
      "cell_type": "code",
      "source": [
        "price_mean = np.mean(data['price'])\n",
        "area_mean = np.mean(data['area'])\n",
        "bedrooms_mean = np.mean(data['bedrooms'])\n",
        "stories_mean = np.mean(data['stories'])\n",
        "#mainroad_mean = np.mean(data['mainroad'])\n",
        "#guestroom_mean = np.mean(data['guestroom'])\n",
        "#basement_mean = np.mean(data['basement'])\n",
        "#hotwaterheating_mean = np.mean(data['hotwaterheating'])\n",
        "#airconditioning_mean = np.mean(data['airconditioning'])\n",
        "parking_mean = np.mean(data['parking'])\n",
        "#prefarea_mean = np.mean(data['prefarea'])\n",
        "#furnishingstatus_mean = np.mean(data['furnishingstatus'])\n",
        "print(\"price Mean:\", price_mean)\n",
        "print(\"area Mean:\", area_mean)\n",
        "print(\"bedrooms Mean:\", bedrooms_mean)\n",
        "print(\"stories Mean:\", stories_mean)\n",
        "#print(\"mainroad Mean:\", mainroad_mean)\n",
        "#print(\"guestroom Mean:\", guestroom_mean)\n",
        "#print(\"basement Mean:\", basement_mean)\n",
        "#print(\"hotwaterheating Mean:\", hotwaterheating_mean)\n",
        "#print(\"airconditioning Mean:\", airconditioning_mean)\n",
        "print(\"parking Mean:\", parking_mean)\n",
        "#print(\"prefarea Mean:\", prefarea_mean)\n",
        "#print(\"furnishingstatus Mean:\", furnishingstatus_mean)"
      ],
      "metadata": {
        "colab": {
          "base_uri": "https://localhost:8080/"
        },
        "id": "42zOqb2pgEGi",
        "outputId": "5245f13a-5d37-4971-937a-ccabaad03a8c"
      },
      "execution_count": null,
      "outputs": [
        {
          "output_type": "stream",
          "name": "stdout",
          "text": [
            "price Mean: 4766729.247706422\n",
            "area Mean: 5150.54128440367\n",
            "bedrooms Mean: 2.9651376146788992\n",
            "stories Mean: 1.8055045871559634\n",
            "parking Mean: 0.6935779816513762\n"
          ]
        }
      ]
    },
    {
      "cell_type": "markdown",
      "source": [
        "Median of the data"
      ],
      "metadata": {
        "id": "tEc28PjUt830"
      }
    },
    {
      "cell_type": "code",
      "source": [
        "price_median = np.median(data['price'])\n",
        "area_median = np.median(data['area'])\n",
        "bedrooms_median = np.median(data['bedrooms'])\n",
        "stories_median = np.median(data['stories'])\n",
        "#mainroad_median = np.median(data['mainroad'])\n",
        "#guestroom_median = np.median(data['guestroom'])\n",
        "#basement_median = np.median(data['basement'])\n",
        "#hotwaterheating_median = np.median(data['hotwaterheating'])\n",
        "#airconditioning_median = np.median(data['airconditioning'])\n",
        "parking_median = np.median(data['parking'])\n",
        "#prefarea_median = np.median(data['prefarea'])\n",
        "#furnishingstatus_median = np.median(data['furnishingstatus'])\n",
        "print(\"price Median:\", price_median)\n",
        "print(\"area Median:\", area_median)\n",
        "print(\"bedrooms Median:\", bedrooms_median)\n",
        "print(\"stories Median:\", stories_median)\n",
        "#print(\"mainroad Median:\", mainroad_median)\n",
        "#print(\"guestroom Median:\", guestroom_median)\n",
        "#print(\"basement Median:\", basement_median)\n",
        "#print(\"hotwaterheating Median:\", hotwaterheating_median)\n",
        "#print(\"airconditioning Median:\", airconditioning_median)\n",
        "print(\"parking Median:\", parking_median)\n",
        "#print(\"prefarea Median:\", prefarea_median)\n",
        "#print(\"furnishingstatus Median:\", furnishingstatus_median)"
      ],
      "metadata": {
        "id": "WiURQWVwmqmT",
        "colab": {
          "base_uri": "https://localhost:8080/"
        },
        "outputId": "b95e165a-4aee-4bd0-a48d-c41c5973a179"
      },
      "execution_count": 10,
      "outputs": [
        {
          "output_type": "stream",
          "name": "stdout",
          "text": [
            "price Median: 4340000.0\n",
            "area Median: 4600.0\n",
            "bedrooms Median: 3.0\n",
            "stories Median: 2.0\n",
            "parking Median: 0.0\n"
          ]
        }
      ]
    },
    {
      "cell_type": "markdown",
      "source": [
        "Mode of the data"
      ],
      "metadata": {
        "id": "4DH3kBvDvWT0"
      }
    },
    {
      "cell_type": "code",
      "source": [
        "price_mode = stats.mode(data['price'])\n",
        "area_mode = stats.mode(data['area'])\n",
        "bedrooms_mode = stats.mode(data['bedrooms'])\n",
        "stories_mode = stats.mode(data['stories'])\n",
        "#mainroad_mode = stats.mode(data['mainroad'])\n",
        "#guestroom_mode = stats.mode(data['guestroom'])\n",
        "#basement_mode = stats.mode(data['basement'])\n",
        "#hotwaterheating_mode = stats.mode(data['hotwaterheating'])\n",
        "#airconditioning_mode = stats.mode(data['airconditioning'])\n",
        "parking_mode = stats.mode(data['parking'])\n",
        "#prefarea_mode = stats.mode(data['prefarea'])\n",
        "#furnishingstatus_mode = stats.mode(data['furnishingstatus'])\n",
        "print(\"price Mode:\", price_mode)\n",
        "print(\"area Mode:\", area_mode)\n",
        "print(\"bedrooms Mode:\", bedrooms_mode)\n",
        "print(\"stories Mode:\", stories_mode)\n",
        "#print(\"mainroad Mode:\", mainroad_mode)\n",
        "#print(\"guestroom Mode:\", guestroom_mode)\n",
        "#print(\"basement Mode:\", basement_mode)\n",
        "#print(\"hotwaterheating Mode:\", hotwaterheating_mode)\n",
        "#print(\"airconditioning Mode:\", airconditioning_mode)\n",
        "print(\"parking Mode:\", parking_mode)\n",
        "#print(\"prefarea Mode:\", prefarea_mode)\n",
        "#print(\"furnishingstatus Mode:\", furnishingstatus_mode)"
      ],
      "metadata": {
        "id": "bViguYvmvYaA",
        "colab": {
          "base_uri": "https://localhost:8080/"
        },
        "outputId": "0472d102-9842-42e0-d4b0-82f0cf79fff4"
      },
      "execution_count": 11,
      "outputs": [
        {
          "output_type": "stream",
          "name": "stdout",
          "text": [
            "price Mode: ModeResult(mode=3500000, count=17)\n",
            "area Mode: ModeResult(mode=6000, count=24)\n",
            "bedrooms Mode: ModeResult(mode=3, count=300)\n",
            "stories Mode: ModeResult(mode=2, count=238)\n",
            "parking Mode: ModeResult(mode=0, count=299)\n"
          ]
        }
      ]
    },
    {
      "cell_type": "markdown",
      "source": [
        "Variance of the Data"
      ],
      "metadata": {
        "id": "z0oMfyu0HNwr"
      }
    },
    {
      "cell_type": "code",
      "source": [
        "price_variance = np.var(data['price'])\n",
        "area_variance = np.var(data['area'])\n",
        "bedrooms_variance = np.var(data['bedrooms'])\n",
        "stories_variance = np.var(data['stories'])\n",
        "#mainroad_ = np.(data['mainroad'])\n",
        "#guestroom_ = np.(data['guestroom'])\n",
        "#basement_ = np.(data['basement'])\n",
        "#hotwaterheating_ = np.(data['hotwaterheating'])\n",
        "#airconditioning_ = np.(data['airconditioning'])\n",
        "parking_variance = np.var(data['parking'])\n",
        "#prefarea_ = np.(data['prefarea'])\n",
        "#furnishingstatus_ = np.(data['furnishingstatus'])\n",
        "print(\"price Variance:\", price_variance)\n",
        "print(\"area Variance:\", area_variance)\n",
        "print(\"bedrooms Variance:\", bedrooms_variance)\n",
        "print(\"stories Variance:\", stories_variance)\n",
        "#print(\"mainroad :\", mainroad_)\n",
        "#print(\"guestroom :\", guestroom_)\n",
        "#print(\"basement :\", basement_)\n",
        "#print(\"hotwaterheating :\", hotwaterheating_)\n",
        "#print(\"airconditioning :\", airconditioning_)\n",
        "print(\"parking Variance:\", parking_variance)\n",
        "#print(\"prefarea :\", prefarea_)\n",
        "#print(\"furnishingstatus :\", furnishingstatus_)"
      ],
      "metadata": {
        "colab": {
          "base_uri": "https://localhost:8080/"
        },
        "id": "YLwMN4l-FXz9",
        "outputId": "791977b4-5d3d-4f05-f46f-15509c3d3c86"
      },
      "execution_count": 12,
      "outputs": [
        {
          "output_type": "stream",
          "name": "stdout",
          "text": [
            "price Variance: 3492125008378.7007\n",
            "area Variance: 4700870.7510478925\n",
            "bedrooms Variance: 0.54373874253009\n",
            "stories Variance: 0.7511623600707011\n",
            "parking Variance: 0.7409679319922565\n"
          ]
        }
      ]
    },
    {
      "cell_type": "markdown",
      "source": [
        "Standard Deviation of the Data"
      ],
      "metadata": {
        "id": "douDKrQXIqZO"
      }
    },
    {
      "cell_type": "code",
      "source": [
        "price_std = np.std(data['price'])\n",
        "area_std = np.std(data['area'])\n",
        "bedrooms_std = np.std(data['bedrooms'])\n",
        "stories_std = np.std(data['stories'])\n",
        "parking_std = np.std(data['parking'])\n",
        "print(\"price Standard Deviation:\", price_std)\n",
        "print(\"area Standard Deviation:\", area_std)\n",
        "print(\"bedrooms Standard Deviation:\", bedrooms_std)\n",
        "print(\"stories Standard Deviation:\", stories_std)\n",
        "print(\"parking Standard Deviation:\", parking_std)"
      ],
      "metadata": {
        "colab": {
          "base_uri": "https://localhost:8080/"
        },
        "id": "xYL1K_CcI8vz",
        "outputId": "161e3fa0-2efb-4925-b848-57b76bc9b439"
      },
      "execution_count": 13,
      "outputs": [
        {
          "output_type": "stream",
          "name": "stdout",
          "text": [
            "price Standard Deviation: 1868722.8281312082\n",
            "area Standard Deviation: 2168.149153321305\n",
            "bedrooms Standard Deviation: 0.7373864268686331\n",
            "stories Standard Deviation: 0.8666962328697991\n",
            "parking Standard Deviation: 0.8607949418951395\n"
          ]
        }
      ]
    },
    {
      "cell_type": "markdown",
      "source": [
        "Range of the data"
      ],
      "metadata": {
        "id": "3l2l0YXwLLmI"
      }
    },
    {
      "cell_type": "code",
      "source": [
        "price_range = np.max(data['price'])-np.min(data['price'])\n",
        "area_range = np.max(data['area'])-np.min(data['area'])\n",
        "bedrooms_range = np.max(data['bedrooms'])-np.min(data['bedrooms'])\n",
        "stories_range = np.max(data['stories'])-np.min(data['stories'])\n",
        "parking_range = np.max(data['parking'])-np.min(data['parking'])\n",
        "print(\"price Range:\", price_range)\n",
        "print(\"area Range:\", area_range)\n",
        "print(\"bedrooms Range:\", bedrooms_range)\n",
        "print(\"stories Range:\", stories_range)\n",
        "print(\"parking Range:\", parking_range)"
      ],
      "metadata": {
        "colab": {
          "base_uri": "https://localhost:8080/"
        },
        "id": "-dTzBhgRLbqb",
        "outputId": "047160a2-70bd-4ee0-b1aa-3ae8542c314e"
      },
      "execution_count": 15,
      "outputs": [
        {
          "output_type": "stream",
          "name": "stdout",
          "text": [
            "price Range: 11550000\n",
            "area Range: 14550\n",
            "bedrooms Range: 5\n",
            "stories Range: 3\n",
            "parking Range: 3\n"
          ]
        }
      ]
    },
    {
      "cell_type": "markdown",
      "source": [
        "Interquile Range of the Data"
      ],
      "metadata": {
        "id": "0_1ZUDrMNU3y"
      }
    },
    {
      "cell_type": "code",
      "source": [
        "price_IQR = stats.iqr(data['price'])\n",
        "area_IQR = stats.iqr(data['area'])\n",
        "bedrooms_IQR = stats.iqr(data['bedrooms'])\n",
        "stories_IQR = stats.iqr(data['stories'])\n",
        "parking_IQR = stats.iqr(data['parking'])\n",
        "print(\"price IQR:\", price_IQR)\n",
        "print(\"area IQR:\", area_IQR)\n",
        "print(\"bedrooms IQR:\", bedrooms_IQR)\n",
        "print(\"stories IQR:\", stories_IQR)\n",
        "print(\"parking IQR:\", parking_IQR)"
      ],
      "metadata": {
        "colab": {
          "base_uri": "https://localhost:8080/"
        },
        "id": "y4eZR0XUNiFP",
        "outputId": "6e06cb7f-74d4-42f9-a6f2-1ed834103901"
      },
      "execution_count": 16,
      "outputs": [
        {
          "output_type": "stream",
          "name": "stdout",
          "text": [
            "price IQR: 2310000.0\n",
            "area IQR: 2760.0\n",
            "bedrooms IQR: 1.0\n",
            "stories IQR: 1.0\n",
            "parking IQR: 1.0\n"
          ]
        }
      ]
    },
    {
      "cell_type": "markdown",
      "source": [
        "Skewness of the data"
      ],
      "metadata": {
        "id": "nh3QgJExObSX"
      }
    },
    {
      "cell_type": "code",
      "source": [
        "price_skew = stats.skew(data['price'])\n",
        "area_skew = stats.skew(data['area'])\n",
        "bedrooms_skew = stats.skew(data['bedrooms'])\n",
        "stories_skew = stats.skew(data['stories'])\n",
        "parking_skew = stats.skew(data['parking'])\n",
        "print(\"price Skewness:\", price_skew)\n",
        "print(\"area Skewness:\", area_skew)\n",
        "print(\"bedrooms Skewness:\", bedrooms_skew)\n",
        "print(\"stories Skewness:\", stories_skew)\n",
        "print(\"parking Skewness:\", parking_skew)"
      ],
      "metadata": {
        "colab": {
          "base_uri": "https://localhost:8080/"
        },
        "id": "hFi_-ljOOlNx",
        "outputId": "25fc1fd4-4b50-486f-caaa-a6da4c2dce89"
      },
      "execution_count": 18,
      "outputs": [
        {
          "output_type": "stream",
          "name": "stdout",
          "text": [
            "price Skewness: 1.2088998457878217\n",
            "area Skewness: 1.3175492613408553\n",
            "bedrooms Skewness: 0.4943186286589377\n",
            "stories Skewness: 1.0791077858970946\n",
            "parking Skewness: 0.8397429574715471\n"
          ]
        }
      ]
    },
    {
      "cell_type": "markdown",
      "source": [
        "Kurtosis of the data"
      ],
      "metadata": {
        "id": "DdGQwnjtPdCG"
      }
    },
    {
      "cell_type": "code",
      "source": [
        "price_kurtosis = stats.kurtosis(data['price'])\n",
        "area_kurtosis = stats.kurtosis(data['area'])\n",
        "bedrooms_kurtosis = stats.kurtosis(data['bedrooms'])\n",
        "stories_kurtosis = stats.kurtosis(data['stories'])\n",
        "parking_kurtosis = stats.kurtosis(data['parking'])\n",
        "print(\"price Kurtosis:\", price_kurtosis)\n",
        "print(\"area Kurtosis:\", area_kurtosis)\n",
        "print(\"bedrooms Kurtosis:\", bedrooms_kurtosis)\n",
        "print(\"stories Kurtosis:\", stories_kurtosis)\n",
        "print(\"parking Kurtosis:\", parking_kurtosis)"
      ],
      "metadata": {
        "colab": {
          "base_uri": "https://localhost:8080/"
        },
        "id": "jsnWXTlQPphf",
        "outputId": "20836945-3b95-4bc0-9522-e755309d56d7"
      },
      "execution_count": 19,
      "outputs": [
        {
          "output_type": "stream",
          "name": "stdout",
          "text": [
            "price Kurtosis: 1.9312045083457265\n",
            "area Kurtosis: 2.715312998249229\n",
            "bedrooms Kurtosis: 0.7106691450351841\n",
            "stories Kurtosis: 0.6621980006219945\n",
            "parking Kurtosis: -0.5788075674955611\n"
          ]
        }
      ]
    }
  ]
}