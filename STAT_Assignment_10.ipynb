{
  "nbformat": 4,
  "nbformat_minor": 0,
  "metadata": {
    "colab": {
      "provenance": [],
      "include_colab_link": true
    },
    "kernelspec": {
      "name": "python3",
      "display_name": "Python 3"
    },
    "language_info": {
      "name": "python"
    }
  },
  "cells": [
    {
      "cell_type": "markdown",
      "metadata": {
        "id": "view-in-github",
        "colab_type": "text"
      },
      "source": [
        "<a href=\"https://colab.research.google.com/github/2303A52413/STAT_2303A52413/blob/main/STAT_Assignment_10.ipynb\" target=\"_parent\"><img src=\"https://colab.research.google.com/assets/colab-badge.svg\" alt=\"Open In Colab\"/></a>"
      ]
    },
    {
      "cell_type": "code",
      "source": [
        "import pandas as pd\n",
        "from sklearn.model_selection import train_test_split\n",
        "from sklearn.neighbors import KNeighborsClassifier\n",
        "from sklearn.metrics import accuracy_score, confusion_matrix, classification_report\n",
        "from sklearn.svm import SVC"
      ],
      "metadata": {
        "id": "DyieMgzqGdWc"
      },
      "execution_count": null,
      "outputs": []
    },
    {
      "cell_type": "code",
      "source": [
        "df = pd.read_csv('/content/breast_cancer_survival.csv')\n",
        "print(df)"
      ],
      "metadata": {
        "colab": {
          "base_uri": "https://localhost:8080/"
        },
        "id": "VrrU5il7H4cj",
        "outputId": "00167109-a536-4d9b-d85b-d5c246af58a1"
      },
      "execution_count": null,
      "outputs": [
        {
          "output_type": "stream",
          "name": "stdout",
          "text": [
            "     Age  Gender  Protein1  Protein2  Protein3  Protein4 Tumour_Stage  \\\n",
            "0     42  FEMALE  0.952560   2.15000  0.007972 -0.048340           II   \n",
            "1     54  FEMALE  0.000000   1.38020 -0.498030 -0.507320           II   \n",
            "2     63  FEMALE -0.523030   1.76400 -0.370190  0.010815           II   \n",
            "3     78  FEMALE -0.876180   0.12943 -0.370380  0.132190            I   \n",
            "4     42  FEMALE  0.226110   1.74910 -0.543970 -0.390210           II   \n",
            "..   ...     ...       ...       ...       ...       ...          ...   \n",
            "329   59  FEMALE  0.024598   1.40050  0.024751  0.280320           II   \n",
            "330   41  FEMALE  0.100120  -0.46547  0.472370 -0.523870            I   \n",
            "331   54  FEMALE  0.753820   1.64250 -0.332850  0.857860           II   \n",
            "332   74  FEMALE  0.972510   1.42680 -0.366570 -0.107820           II   \n",
            "333   66  FEMALE  0.286380   1.39980  0.318830  0.836050           II   \n",
            "\n",
            "                          Histology ER status PR status HER2 status  \\\n",
            "0     Infiltrating Ductal Carcinoma  Positive  Positive    Negative   \n",
            "1     Infiltrating Ductal Carcinoma  Positive  Positive    Negative   \n",
            "2     Infiltrating Ductal Carcinoma  Positive  Positive    Negative   \n",
            "3     Infiltrating Ductal Carcinoma  Positive  Positive    Negative   \n",
            "4     Infiltrating Ductal Carcinoma  Positive  Positive    Positive   \n",
            "..                              ...       ...       ...         ...   \n",
            "329   Infiltrating Ductal Carcinoma  Positive  Positive    Positive   \n",
            "330   Infiltrating Ductal Carcinoma  Positive  Positive    Positive   \n",
            "331   Infiltrating Ductal Carcinoma  Positive  Positive    Negative   \n",
            "332  Infiltrating Lobular Carcinoma  Positive  Positive    Negative   \n",
            "333   Infiltrating Ductal Carcinoma  Positive  Positive    Negative   \n",
            "\n",
            "                    Surgery_type Date_of_Surgery Date_of_Last_Visit  \\\n",
            "0                          Other       20-May-18          26-Aug-18   \n",
            "1                          Other       26-Apr-18          25-Jan-19   \n",
            "2                     Lumpectomy       24-Aug-18          08-Apr-20   \n",
            "3                          Other       16-Nov-18          28-Jul-20   \n",
            "4                     Lumpectomy       12-Dec-18          05-Jan-19   \n",
            "..                           ...             ...                ...   \n",
            "329                   Lumpectomy       15-Jan-19          27-Mar-20   \n",
            "330  Modified Radical Mastectomy       25-Jul-18          23-Apr-19   \n",
            "331            Simple Mastectomy       26-Mar-19          11-Oct-19   \n",
            "332                   Lumpectomy       26-Nov-18          05-Dec-18   \n",
            "333  Modified Radical Mastectomy       04-Feb-19          10-Aug-19   \n",
            "\n",
            "    Patient_Status  \n",
            "0            Alive  \n",
            "1             Dead  \n",
            "2            Alive  \n",
            "3            Alive  \n",
            "4            Alive  \n",
            "..             ...  \n",
            "329          Alive  \n",
            "330          Alive  \n",
            "331           Dead  \n",
            "332          Alive  \n",
            "333           Dead  \n",
            "\n",
            "[334 rows x 15 columns]\n"
          ]
        }
      ]
    },
    {
      "cell_type": "code",
      "source": [
        "y = df['Patient_Status']\n",
        "x = df.drop(['Date_of_Surgery', 'Date_of_Last_Visit', 'Patient_Status'], axis=1)\n",
        "print(\"Features:\", x)\n",
        "print(\"Target:\", y)"
      ],
      "metadata": {
        "colab": {
          "base_uri": "https://localhost:8080/"
        },
        "id": "lYzdHdPcIJxz",
        "outputId": "4917a304-2638-419b-d2f2-b8c0dc9d5339"
      },
      "execution_count": null,
      "outputs": [
        {
          "output_type": "stream",
          "name": "stdout",
          "text": [
            "Features:      Age  Gender  Protein1  Protein2  Protein3  Protein4 Tumour_Stage  \\\n",
            "0     42  FEMALE  0.952560   2.15000  0.007972 -0.048340           II   \n",
            "1     54  FEMALE  0.000000   1.38020 -0.498030 -0.507320           II   \n",
            "2     63  FEMALE -0.523030   1.76400 -0.370190  0.010815           II   \n",
            "3     78  FEMALE -0.876180   0.12943 -0.370380  0.132190            I   \n",
            "4     42  FEMALE  0.226110   1.74910 -0.543970 -0.390210           II   \n",
            "..   ...     ...       ...       ...       ...       ...          ...   \n",
            "329   59  FEMALE  0.024598   1.40050  0.024751  0.280320           II   \n",
            "330   41  FEMALE  0.100120  -0.46547  0.472370 -0.523870            I   \n",
            "331   54  FEMALE  0.753820   1.64250 -0.332850  0.857860           II   \n",
            "332   74  FEMALE  0.972510   1.42680 -0.366570 -0.107820           II   \n",
            "333   66  FEMALE  0.286380   1.39980  0.318830  0.836050           II   \n",
            "\n",
            "                          Histology ER status PR status HER2 status  \\\n",
            "0     Infiltrating Ductal Carcinoma  Positive  Positive    Negative   \n",
            "1     Infiltrating Ductal Carcinoma  Positive  Positive    Negative   \n",
            "2     Infiltrating Ductal Carcinoma  Positive  Positive    Negative   \n",
            "3     Infiltrating Ductal Carcinoma  Positive  Positive    Negative   \n",
            "4     Infiltrating Ductal Carcinoma  Positive  Positive    Positive   \n",
            "..                              ...       ...       ...         ...   \n",
            "329   Infiltrating Ductal Carcinoma  Positive  Positive    Positive   \n",
            "330   Infiltrating Ductal Carcinoma  Positive  Positive    Positive   \n",
            "331   Infiltrating Ductal Carcinoma  Positive  Positive    Negative   \n",
            "332  Infiltrating Lobular Carcinoma  Positive  Positive    Negative   \n",
            "333   Infiltrating Ductal Carcinoma  Positive  Positive    Negative   \n",
            "\n",
            "                    Surgery_type  \n",
            "0                          Other  \n",
            "1                          Other  \n",
            "2                     Lumpectomy  \n",
            "3                          Other  \n",
            "4                     Lumpectomy  \n",
            "..                           ...  \n",
            "329                   Lumpectomy  \n",
            "330  Modified Radical Mastectomy  \n",
            "331            Simple Mastectomy  \n",
            "332                   Lumpectomy  \n",
            "333  Modified Radical Mastectomy  \n",
            "\n",
            "[334 rows x 12 columns]\n",
            "Target: 0      Alive\n",
            "1       Dead\n",
            "2      Alive\n",
            "3      Alive\n",
            "4      Alive\n",
            "       ...  \n",
            "329    Alive\n",
            "330    Alive\n",
            "331     Dead\n",
            "332    Alive\n",
            "333     Dead\n",
            "Name: Patient_Status, Length: 334, dtype: object\n"
          ]
        }
      ]
    },
    {
      "cell_type": "code",
      "source": [
        "x = x.replace({'Gender': {'MALE': 0, 'FEMALE': 1}})\n",
        "x = x.replace({'Tumour_Stage': {'I': 1, 'II': 2, 'III': 3}})\n",
        "x = x.replace({'Histology': {'Infiltrating Ductal Carcinoma': 1, 'Infiltrating Lobular Carcinoma': 2, 'Mucinous Carcinoma': 3}})\n",
        "x = x.replace({'Surgery_type': {'Other': 1, 'Lumpectomy': 2, 'Modified Radical Mastectomy': 3, 'Simple Mastectomy': 4}})\n",
        "x = x.replace({'ER status': {'Positive': 1, 'Negative': 0}})\n",
        "x = x.replace({'PR status': {'Positive': 1, 'Negative': 0}})\n",
        "x = x.replace({'HER2 status': {'Positive': 1, 'Negative': 0}})\n",
        "y = y.replace({'Alive': 0, 'Dead': 1})\n",
        "print(x)\n",
        "print(y)"
      ],
      "metadata": {
        "colab": {
          "base_uri": "https://localhost:8080/"
        },
        "id": "A-prwwdSJ5JZ",
        "outputId": "19b6aa8c-6d88-47f9-888c-a54418ef545e"
      },
      "execution_count": null,
      "outputs": [
        {
          "output_type": "stream",
          "name": "stdout",
          "text": [
            "     Age  Gender  Protein1  Protein2  Protein3  Protein4  Tumour_Stage  \\\n",
            "0     42       1  0.952560   2.15000  0.007972 -0.048340             2   \n",
            "1     54       1  0.000000   1.38020 -0.498030 -0.507320             2   \n",
            "2     63       1 -0.523030   1.76400 -0.370190  0.010815             2   \n",
            "3     78       1 -0.876180   0.12943 -0.370380  0.132190             1   \n",
            "4     42       1  0.226110   1.74910 -0.543970 -0.390210             2   \n",
            "..   ...     ...       ...       ...       ...       ...           ...   \n",
            "329   59       1  0.024598   1.40050  0.024751  0.280320             2   \n",
            "330   41       1  0.100120  -0.46547  0.472370 -0.523870             1   \n",
            "331   54       1  0.753820   1.64250 -0.332850  0.857860             2   \n",
            "332   74       1  0.972510   1.42680 -0.366570 -0.107820             2   \n",
            "333   66       1  0.286380   1.39980  0.318830  0.836050             2   \n",
            "\n",
            "     Histology  ER status  PR status  HER2 status  Surgery_type  \n",
            "0            1          1          1            0             1  \n",
            "1            1          1          1            0             1  \n",
            "2            1          1          1            0             2  \n",
            "3            1          1          1            0             1  \n",
            "4            1          1          1            1             2  \n",
            "..         ...        ...        ...          ...           ...  \n",
            "329          1          1          1            1             2  \n",
            "330          1          1          1            1             3  \n",
            "331          1          1          1            0             4  \n",
            "332          2          1          1            0             2  \n",
            "333          1          1          1            0             3  \n",
            "\n",
            "[334 rows x 12 columns]\n",
            "0      0.0\n",
            "1      1.0\n",
            "2      0.0\n",
            "3      0.0\n",
            "4      0.0\n",
            "      ... \n",
            "329    0.0\n",
            "330    0.0\n",
            "331    1.0\n",
            "332    0.0\n",
            "333    1.0\n",
            "Name: Patient_Status, Length: 334, dtype: float64\n"
          ]
        },
        {
          "output_type": "stream",
          "name": "stderr",
          "text": [
            "<ipython-input-91-9d2a80879e4d>:1: FutureWarning: Downcasting behavior in `replace` is deprecated and will be removed in a future version. To retain the old behavior, explicitly call `result.infer_objects(copy=False)`. To opt-in to the future behavior, set `pd.set_option('future.no_silent_downcasting', True)`\n",
            "  x = x.replace({'Gender': {'MALE': 0, 'FEMALE': 1}})\n",
            "<ipython-input-91-9d2a80879e4d>:2: FutureWarning: Downcasting behavior in `replace` is deprecated and will be removed in a future version. To retain the old behavior, explicitly call `result.infer_objects(copy=False)`. To opt-in to the future behavior, set `pd.set_option('future.no_silent_downcasting', True)`\n",
            "  x = x.replace({'Tumour_Stage': {'I': 1, 'II': 2, 'III': 3}})\n",
            "<ipython-input-91-9d2a80879e4d>:3: FutureWarning: Downcasting behavior in `replace` is deprecated and will be removed in a future version. To retain the old behavior, explicitly call `result.infer_objects(copy=False)`. To opt-in to the future behavior, set `pd.set_option('future.no_silent_downcasting', True)`\n",
            "  x = x.replace({'Histology': {'Infiltrating Ductal Carcinoma': 1, 'Infiltrating Lobular Carcinoma': 2, 'Mucinous Carcinoma': 3}})\n",
            "<ipython-input-91-9d2a80879e4d>:4: FutureWarning: Downcasting behavior in `replace` is deprecated and will be removed in a future version. To retain the old behavior, explicitly call `result.infer_objects(copy=False)`. To opt-in to the future behavior, set `pd.set_option('future.no_silent_downcasting', True)`\n",
            "  x = x.replace({'Surgery_type': {'Other': 1, 'Lumpectomy': 2, 'Modified Radical Mastectomy': 3, 'Simple Mastectomy': 4}})\n",
            "<ipython-input-91-9d2a80879e4d>:5: FutureWarning: Downcasting behavior in `replace` is deprecated and will be removed in a future version. To retain the old behavior, explicitly call `result.infer_objects(copy=False)`. To opt-in to the future behavior, set `pd.set_option('future.no_silent_downcasting', True)`\n",
            "  x = x.replace({'ER status': {'Positive': 1, 'Negative': 0}})\n",
            "<ipython-input-91-9d2a80879e4d>:6: FutureWarning: Downcasting behavior in `replace` is deprecated and will be removed in a future version. To retain the old behavior, explicitly call `result.infer_objects(copy=False)`. To opt-in to the future behavior, set `pd.set_option('future.no_silent_downcasting', True)`\n",
            "  x = x.replace({'PR status': {'Positive': 1, 'Negative': 0}})\n",
            "<ipython-input-91-9d2a80879e4d>:7: FutureWarning: Downcasting behavior in `replace` is deprecated and will be removed in a future version. To retain the old behavior, explicitly call `result.infer_objects(copy=False)`. To opt-in to the future behavior, set `pd.set_option('future.no_silent_downcasting', True)`\n",
            "  x = x.replace({'HER2 status': {'Positive': 1, 'Negative': 0}})\n",
            "<ipython-input-91-9d2a80879e4d>:8: FutureWarning: Downcasting behavior in `replace` is deprecated and will be removed in a future version. To retain the old behavior, explicitly call `result.infer_objects(copy=False)`. To opt-in to the future behavior, set `pd.set_option('future.no_silent_downcasting', True)`\n",
            "  y = y.replace({'Alive': 0, 'Dead': 1})\n"
          ]
        }
      ]
    },
    {
      "cell_type": "code",
      "source": [
        "x = (x - x.min()) / (x.max() - x.min())\n",
        "y.fillna(0, inplace=True)\n",
        "x.fillna(0, inplace=True)"
      ],
      "metadata": {
        "id": "ac1tW9ZzIoIu"
      },
      "execution_count": null,
      "outputs": []
    },
    {
      "cell_type": "code",
      "source": [
        "test_sizes = [0.2, 0.3, 0.4]\n",
        "for test_size in test_sizes:\n",
        "    X_train, X_test, y_train, y_test = train_test_split(x, y, test_size=test_size, random_state=42)\n",
        "    knn_model = KNeighborsClassifier(n_neighbors=5)\n",
        "    knn_model.fit(X_train, y_train)\n",
        "    y_pred = knn_model.predict(X_test)\n",
        "    accuracy = accuracy_score(y_test, y_pred)\n",
        "    print(f\"Test size: {test_size}, Accuracy: {accuracy}\")\n",
        "    confusion_mat = confusion_matrix(y_test, y_pred)\n",
        "    print(\"Confusion Matrix:\")\n",
        "    print(confusion_mat)\n",
        "    classification_rep = classification_report(y_test, y_pred, zero_division=1)\n",
        "    print(\"Classification Report:\")\n",
        "    print(classification_rep)"
      ],
      "metadata": {
        "colab": {
          "base_uri": "https://localhost:8080/"
        },
        "id": "Qgn7MRPHPI62",
        "outputId": "bce42879-889b-4bd1-ca4b-14e3d6d47f52"
      },
      "execution_count": null,
      "outputs": [
        {
          "output_type": "stream",
          "name": "stdout",
          "text": [
            "Test size: 0.2, Accuracy: 0.8208955223880597\n",
            "Confusion Matrix:\n",
            "[[54  1]\n",
            " [11  1]]\n",
            "Classification Report:\n",
            "              precision    recall  f1-score   support\n",
            "\n",
            "         0.0       0.83      0.98      0.90        55\n",
            "         1.0       0.50      0.08      0.14        12\n",
            "\n",
            "    accuracy                           0.82        67\n",
            "   macro avg       0.67      0.53      0.52        67\n",
            "weighted avg       0.77      0.82      0.76        67\n",
            "\n",
            "Test size: 0.3, Accuracy: 0.8118811881188119\n",
            "Confusion Matrix:\n",
            "[[80  2]\n",
            " [17  2]]\n",
            "Classification Report:\n",
            "              precision    recall  f1-score   support\n",
            "\n",
            "         0.0       0.82      0.98      0.89        82\n",
            "         1.0       0.50      0.11      0.17        19\n",
            "\n",
            "    accuracy                           0.81       101\n",
            "   macro avg       0.66      0.54      0.53       101\n",
            "weighted avg       0.76      0.81      0.76       101\n",
            "\n",
            "Test size: 0.4, Accuracy: 0.7835820895522388\n",
            "Confusion Matrix:\n",
            "[[102   5]\n",
            " [ 24   3]]\n",
            "Classification Report:\n",
            "              precision    recall  f1-score   support\n",
            "\n",
            "         0.0       0.81      0.95      0.88       107\n",
            "         1.0       0.38      0.11      0.17        27\n",
            "\n",
            "    accuracy                           0.78       134\n",
            "   macro avg       0.59      0.53      0.52       134\n",
            "weighted avg       0.72      0.78      0.73       134\n",
            "\n"
          ]
        }
      ]
    },
    {
      "cell_type": "code",
      "source": [
        "test_sizes = [0.2, 0.25, 0.3, 0.35]\n",
        "for test_size in test_sizes:\n",
        "    X_train, X_test, y_train, y_test = train_test_split(x, y, test_size=test_size, random_state=42)\n",
        "    svm_model = SVC()\n",
        "    svm_model.fit(X_train, y_train)\n",
        "    y_pred = svm_model.predict(X_test)\n",
        "    accuracy = accuracy_score(y_test, y_pred)\n",
        "    print(f\"Test size: {test_size}, Accuracy: {accuracy}\")\n",
        "    confusion_mat = confusion_matrix(y_test, y_pred)\n",
        "    print(\"Confusion Matrix:\")\n",
        "    print(confusion_mat)\n",
        "    classification_rep = classification_report(y_test, y_pred, zero_division=1)\n",
        "    print(\"Classification Report:\")\n",
        "    print(classification_rep)"
      ],
      "metadata": {
        "colab": {
          "base_uri": "https://localhost:8080/"
        },
        "id": "ST8qN7P_QnuK",
        "outputId": "4d0c8d4e-a8f6-44eb-93db-20c50e442140"
      },
      "execution_count": null,
      "outputs": [
        {
          "output_type": "stream",
          "name": "stdout",
          "text": [
            "Test size: 0.2, Accuracy: 0.8208955223880597\n",
            "Confusion Matrix:\n",
            "[[55  0]\n",
            " [12  0]]\n",
            "Classification Report:\n",
            "              precision    recall  f1-score   support\n",
            "\n",
            "         0.0       0.82      1.00      0.90        55\n",
            "         1.0       1.00      0.00      0.00        12\n",
            "\n",
            "    accuracy                           0.82        67\n",
            "   macro avg       0.91      0.50      0.45        67\n",
            "weighted avg       0.85      0.82      0.74        67\n",
            "\n",
            "Test size: 0.25, Accuracy: 0.8095238095238095\n",
            "Confusion Matrix:\n",
            "[[68  0]\n",
            " [16  0]]\n",
            "Classification Report:\n",
            "              precision    recall  f1-score   support\n",
            "\n",
            "         0.0       0.81      1.00      0.89        68\n",
            "         1.0       1.00      0.00      0.00        16\n",
            "\n",
            "    accuracy                           0.81        84\n",
            "   macro avg       0.90      0.50      0.45        84\n",
            "weighted avg       0.85      0.81      0.72        84\n",
            "\n",
            "Test size: 0.3, Accuracy: 0.8118811881188119\n",
            "Confusion Matrix:\n",
            "[[82  0]\n",
            " [19  0]]\n",
            "Classification Report:\n",
            "              precision    recall  f1-score   support\n",
            "\n",
            "         0.0       0.81      1.00      0.90        82\n",
            "         1.0       1.00      0.00      0.00        19\n",
            "\n",
            "    accuracy                           0.81       101\n",
            "   macro avg       0.91      0.50      0.45       101\n",
            "weighted avg       0.85      0.81      0.73       101\n",
            "\n",
            "Test size: 0.35, Accuracy: 0.811965811965812\n",
            "Confusion Matrix:\n",
            "[[95  0]\n",
            " [22  0]]\n",
            "Classification Report:\n",
            "              precision    recall  f1-score   support\n",
            "\n",
            "         0.0       0.81      1.00      0.90        95\n",
            "         1.0       1.00      0.00      0.00        22\n",
            "\n",
            "    accuracy                           0.81       117\n",
            "   macro avg       0.91      0.50      0.45       117\n",
            "weighted avg       0.85      0.81      0.73       117\n",
            "\n"
          ]
        }
      ]
    }
  ]
}