{
  "nbformat": 4,
  "nbformat_minor": 0,
  "metadata": {
    "colab": {
      "provenance": []
    },
    "kernelspec": {
      "name": "python3",
      "display_name": "Python 3"
    },
    "language_info": {
      "name": "python"
    }
  },
  "cells": [
    {
      "cell_type": "markdown",
      "source": [
        "QUESTION 1"
      ],
      "metadata": {
        "id": "xSTTqyP9-Mwl"
      }
    },
    {
      "cell_type": "markdown",
      "source": [
        "Given the following dataset:x={2.3,2.5,3.6,2.8,3.1,2.9,3.2,2.7,2.8,3.0}.compute the density of the data using a histogram with 5bins"
      ],
      "metadata": {
        "id": "2Yv7SCAB-Ug9"
      }
    },
    {
      "cell_type": "code",
      "source": [
        "import matplotlib.pyplot as plt\n",
        "import numpy as np\n",
        "x = np.array([2.3, 2.5, 3.6, 2.8, 3.1, 2.9, 3.2, 2.7, 2.8, 3.0])\n",
        "bins = 5\n",
        "plt.hist(x,5)\n",
        "plt.show()"
      ],
      "metadata": {
        "colab": {
          "base_uri": "https://localhost:8080/",
          "height": 430
        },
        "id": "tywtRN6A-2cN",
        "outputId": "d5ddecda-fa70-4768-be42-b63c3d96f63b"
      },
      "execution_count": 18,
      "outputs": [
        {
          "output_type": "display_data",
          "data": {
            "text/plain": [
              "<Figure size 640x480 with 1 Axes>"
            ],
            "image/png": "[encoded data removed]"
          },
          "metadata": {}
        }
      ]
    },
    {
      "cell_type": "markdown",
      "source": [
        "QUESTION 2"
      ],
      "metadata": {
        "id": "lZ633m2X9lX8"
      }
    },
    {
      "cell_type": "code",
      "source": [
        "import numpy as np\n",
        "dependent_var =np.array([4,5,8,2,4,2,5])\n",
        "independent_var =np.array([5,6,3,8,3,7,8])"
      ],
      "metadata": {
        "id": "oK_WWMiy9pct"
      },
      "execution_count": 19,
      "outputs": []
    },
    {
      "cell_type": "markdown",
      "source": [
        "MEAN"
      ],
      "metadata": {
        "id": "vXP-nqHQ-Egv"
      }
    },
    {
      "cell_type": "code",
      "source": [
        "print(\"Mean value of dependent_var\")\n",
        "print(np.mean(dependent_var))\n",
        "print(\"mean value of independent_var\")\n",
        "print(np.mean(independent_var))\n",
        "print(\"mean value of dependent_var+independent_var\")\n",
        "print(np.mean(dependent_var+independent_var))"
      ],
      "metadata": {
        "colab": {
          "base_uri": "https://localhost:8080/"
        },
        "id": "wGZTBpSk-Gu3",
        "outputId": "43e51087-a095-431b-ed27-5b7c38c71ce7"
      },
      "execution_count": 20,
      "outputs": [
        {
          "output_type": "stream",
          "name": "stdout",
          "text": [
            "Mean value of dependent_var\n",
            "4.285714285714286\n",
            "mean value of independent_var\n",
            "5.714285714285714\n",
            "mean value of dependent_var+independent_var\n",
            "10.0\n"
          ]
        }
      ]
    },
    {
      "cell_type": "markdown",
      "source": [
        "MEDIAN"
      ],
      "metadata": {
        "id": "Ha42V3E1_P6W"
      }
    },
    {
      "cell_type": "code",
      "source": [
        "print(\"median value of dependent_var\")\n",
        "print(np.median(dependent_var))\n",
        "print(\"median value of independent_var\")\n",
        "print(np.median (independent_var))\n",
        "print(\"median value of dependent_var+indepent_var\")\n",
        "print(np.median(dependent_var+independent_var))\n"
      ],
      "metadata": {
        "colab": {
          "base_uri": "https://localhost:8080/"
        },
        "id": "KR8TIIp4_Sz2",
        "outputId": "8931b153-d1fd-4552-b6da-28cfc038eda5"
      },
      "execution_count": 21,
      "outputs": [
        {
          "output_type": "stream",
          "name": "stdout",
          "text": [
            "median value of dependent_var\n",
            "4.0\n",
            "median value of independent_var\n",
            "6.0\n",
            "median value of dependent_var+indepent_var\n",
            "10.0\n"
          ]
        }
      ]
    },
    {
      "cell_type": "markdown",
      "source": [
        "VARIANCE\n"
      ],
      "metadata": {
        "id": "w8uWsfvfARKz"
      }
    },
    {
      "cell_type": "code",
      "source": [
        "print(\"variance value of dependent_var\")\n",
        "print(np.var(dependent_var))\n",
        "print(\"variance value of independent_var\")\n",
        "print(np.var(independent_var))\n",
        "print(\"variance value of dependent_var+independent_var\")\n",
        "print(np.var(dependent_var+independent_var))\n"
      ],
      "metadata": {
        "colab": {
          "base_uri": "https://localhost:8080/"
        },
        "id": "bkFPeJgVAWZp",
        "outputId": "66afb78f-9972-40d6-9588-cc54e2dc6629"
      },
      "execution_count": 22,
      "outputs": [
        {
          "output_type": "stream",
          "name": "stdout",
          "text": [
            "variance value of dependent_var\n",
            "3.6326530612244894\n",
            "variance value of independent_var\n",
            "3.918367346938776\n",
            "variance value of dependent_var+independent_var\n",
            "3.142857142857143\n"
          ]
        }
      ]
    },
    {
      "cell_type": "markdown",
      "source": [
        "MODE"
      ],
      "metadata": {
        "id": "DPEJj_oIBe_V"
      }
    },
    {
      "cell_type": "code",
      "source": [
        "def find_mode(arr):\n",
        "  counts = np.bincount(arr)\n",
        "  mode =np.argmax(counts)\n",
        "  return mode"
      ],
      "metadata": {
        "id": "3XNiWDXFBg7l"
      },
      "execution_count": 23,
      "outputs": []
    },
    {
      "cell_type": "code",
      "source": [
        "mode_dependent =find_mode(dependent_var)\n",
        "mode_independent =find_mode(independent_var)\n",
        "print(\"mode for dependent_var:\",mode_dependent)\n",
        "print(\"mode for independent_var:\",mode_independent)\n",
        "print(\"mode for dependent_var+independent_var:\",mode_dependent+mode_independent)\n",
        "\n",
        "\n",
        "\n",
        "\n"
      ],
      "metadata": {
        "colab": {
          "base_uri": "https://localhost:8080/"
        },
        "id": "SdPpOIb1B768",
        "outputId": "f08c70f9-1f17-4a05-afc5-6eada861c756"
      },
      "execution_count": 24,
      "outputs": [
        {
          "output_type": "stream",
          "name": "stdout",
          "text": [
            "mode for dependent_var: 2\n",
            "mode for independent_var: 3\n",
            "mode for dependent_var+independent_var: 5\n"
          ]
        }
      ]
    },
    {
      "cell_type": "markdown",
      "source": [
        "STANDARD DEVIATION"
      ],
      "metadata": {
        "id": "4QgOMdEkD5BP"
      }
    },
    {
      "cell_type": "code",
      "source": [
        "print(\"standard deviation value of dependent_var\")\n",
        "print(np.std(dependent_var))\n",
        "print(\"standard deviation value of independent_var\")\n",
        "print(np.std(independent_var))\n",
        "print(\"standard deviation value of dependent_var+independent_var\")\n",
        "print(np.std(dependent_var+independent_var))\n"
      ],
      "metadata": {
        "colab": {
          "base_uri": "https://localhost:8080/"
        },
        "id": "RsakyHHFD-BK",
        "outputId": "db7a2b8c-ba79-4f17-93eb-3a2bd8446de7"
      },
      "execution_count": 25,
      "outputs": [
        {
          "output_type": "stream",
          "name": "stdout",
          "text": [
            "standard deviation value of dependent_var\n",
            "1.9059520091609048\n",
            "standard deviation value of independent_var\n",
            "1.979486637221574\n",
            "standard deviation value of dependent_var+independent_var\n",
            "1.7728105208558367\n"
          ]
        }
      ]
    },
    {
      "cell_type": "markdown",
      "source": [
        "RANGE"
      ],
      "metadata": {
        "id": "x19I61TrFHu6"
      }
    },
    {
      "cell_type": "code",
      "source": [
        "print(\"range value of dependent_var\")\n",
        "print(np.max(dependent_var)-np.min(dependent_var))\n",
        "print(\"range value of independent_var\")\n",
        "print(np.max(independent_var)-np.min(independent_var))\n",
        "print(\"range value of dependent_var+independent_var\")\n",
        "print(np.max(dependent_var+independent_var)-np.min(dependent_var+independent_var))\n",
        "\n"
      ],
      "metadata": {
        "colab": {
          "base_uri": "https://localhost:8080/"
        },
        "id": "d7fiRmadFKj3",
        "outputId": "62a95bcc-d79d-4f86-d758-9e0faa6e8a76"
      },
      "execution_count": 26,
      "outputs": [
        {
          "output_type": "stream",
          "name": "stdout",
          "text": [
            "range value of dependent_var\n",
            "6\n",
            "range value of independent_var\n",
            "5\n",
            "range value of dependent_var+independent_var\n",
            "6\n"
          ]
        }
      ]
    },
    {
      "cell_type": "markdown",
      "source": [
        "INTERQUARTILE RANGE (IQR)"
      ],
      "metadata": {
        "id": "85cOqoeYGQfN"
      }
    },
    {
      "cell_type": "code",
      "source": [
        "def calculate_iqr(data):\n",
        "  q1=np.percentile(data,25)\n",
        "  q3=np.percentile(data,75)\n",
        "  return q3-q1"
      ],
      "metadata": {
        "id": "yIGzWqhaGXGj"
      },
      "execution_count": 27,
      "outputs": []
    },
    {
      "cell_type": "code",
      "source": [
        "iqr_dependent=calculate_iqr(dependent_var)\n",
        "iqr_independent=calculate_iqr(independent_var)\n",
        "iqr_dependent_independent=calculate_iqr(dependent_var+independent_var)"
      ],
      "metadata": {
        "id": "kGFBZ2glG18o"
      },
      "execution_count": 28,
      "outputs": []
    },
    {
      "cell_type": "code",
      "source": [
        "print(\"iqr for dependent_var:\",iqr_dependent)\n",
        "print(\"iqr for independent_var:\",iqr_independent)\n",
        "print(\"iqr for dependent_var+independent_var:\",iqr_dependent_independent)"
      ],
      "metadata": {
        "colab": {
          "base_uri": "https://localhost:8080/"
        },
        "id": "jViI78SYHaGo",
        "outputId": "55393c50-8aa9-466b-c8c7-062a9c6dd0f7"
      },
      "execution_count": 29,
      "outputs": [
        {
          "output_type": "stream",
          "name": "stdout",
          "text": [
            "iqr for dependent_var: 2.0\n",
            "iqr for independent_var: 3.5\n",
            "iqr for dependent_var+independent_var: 2.0\n"
          ]
        }
      ]
    },
    {
      "cell_type": "markdown",
      "source": [
        "SKEWNESS"
      ],
      "metadata": {
        "id": "usm1lN7SIRpa"
      }
    },
    {
      "cell_type": "code",
      "source": [
        "def calculate_skewness(data):\n",
        "   n = len(data)\n",
        "   mean = np.mean(data)\n",
        "   std_dev = np.std(data, ddof=0)\n",
        "   data1 = (n/((n-1)*(n-2)))\n",
        "   data2 = np.sum(((data-mean)/std_dev)**3)\n",
        "   skewness = data1*data2\n",
        "   return skewness"
      ],
      "metadata": {
        "id": "sgDxwKRp4n-L"
      },
      "execution_count": 30,
      "outputs": []
    },
    {
      "cell_type": "code",
      "source": [
        "skewness_dep = calculate_skewness(dependent_var)\n",
        "skewness_ind = calculate_skewness(independent_var)\n",
        "print(\"skewness for dependent_var:\",skewness_dep)\n",
        "print(\"skewness for independent_var:\", skewness_ind)\n",
        "print(\"skewness for dependent_var+independent_var:\", skewness_dep+skewness_ind)\n",
        "\n",
        "\n",
        "\n",
        "\n"
      ],
      "metadata": {
        "colab": {
          "base_uri": "https://localhost:8080/"
        },
        "id": "Jl5P-jVQ6Bvv",
        "outputId": "55517bc7-c77c-4649-a30c-b15b92fc7b20"
      },
      "execution_count": 33,
      "outputs": [
        {
          "output_type": "stream",
          "name": "stdout",
          "text": [
            "skewness for dependent_var: 0.9449994474407377\n",
            "skewness for independent_var: -0.4309829548520998\n",
            "skewness for dependent_var+independent_var: 0.5140164925886379\n"
          ]
        }
      ]
    },
    {
      "cell_type": "markdown",
      "source": [
        "KURTIOSIS OF X AND Y"
      ],
      "metadata": {
        "id": "m_qrz5L5OAdr"
      }
    },
    {
      "cell_type": "code",
      "source": [],
      "metadata": {
        "id": "xvGbDG0yQ_gT"
      },
      "execution_count": null,
      "outputs": []
    },
    {
      "cell_type": "code",
      "source": [
        "def kurtosis(arr):\n",
        "  n=len(arr)\n",
        "  mean=np.mean(arr)\n",
        "  ave=np.sum((arr -mean)**4) /n\n",
        "  squ =(np.sum((arr-mean)**2) /n) **2\n",
        "  kurtosis =(ave/ squ) -3\n",
        "  return kurtosis"
      ],
      "metadata": {
        "id": "TYzytPH6OL3_"
      },
      "execution_count": 34,
      "outputs": []
    },
    {
      "cell_type": "code",
      "source": [
        "dependent =kurtosis(dependent_var)\n",
        "print(f\"kutosis of dependent_var:{dependent}\")\n",
        "independent =kurtosis(independent_var)\n",
        "print(f\"kurtosis(independent_var:{independent}\")\n",
        "kurt_dependent_independent=kurtosis(dependent_var+independent_var)\n",
        "print(f\"kurtosis of dependent_var: {kurt_dependent_independent}\")\n"
      ],
      "metadata": {
        "colab": {
          "base_uri": "https://localhost:8080/"
        },
        "id": "uMxqrnUIPh-B",
        "outputId": "987601bf-0031-4af6-8ab3-fc2bd464dbba"
      },
      "execution_count": 35,
      "outputs": [
        {
          "output_type": "stream",
          "name": "stdout",
          "text": [
            "kutosis of dependent_var:-0.3428228758995071\n",
            "kurtosis(independent_var:-1.4541015625000004\n",
            "kurtosis of dependent_var: -0.5991735537190079\n"
          ]
        }
      ]
    },
    {
      "cell_type": "markdown",
      "source": [
        "QUESTION 3"
      ],
      "metadata": {
        "id": "-qx-qd43SGSx"
      }
    },
    {
      "cell_type": "markdown",
      "source": [
        "From the above data Find Mean, Median, Mode, Variance, Standard deviation, Range , Interquartile Range (IQR),  Skewness ,Kurtosis of each feature."
      ],
      "metadata": {
        "id": "pbLlS7OOSOc2"
      }
    },
    {
      "cell_type": "code",
      "source": [
        "import pandas as pd\n"
      ],
      "metadata": {
        "id": "WGLYtngtSWUr"
      },
      "execution_count": 36,
      "outputs": []
    },
    {
      "cell_type": "code",
      "source": [
        "d=pd.read_csv('/content/sample_data/california_housing_test.csv')"
      ],
      "metadata": {
        "id": "n5kqiPCJSe4N"
      },
      "execution_count": 37,
      "outputs": []
    },
    {
      "cell_type": "code",
      "source": [
        "print(d)"
      ],
      "metadata": {
        "colab": {
          "base_uri": "https://localhost:8080/"
        },
        "id": "1KzgCPc5S33d",
        "outputId": "9319bfdc-4b4e-48c5-ce56-eef87ffb5e2a"
      },
      "execution_count": 38,
      "outputs": [
        {
          "output_type": "stream",
          "name": "stdout",
          "text": [
            "      longitude  latitude  housing_median_age  total_rooms  total_bedrooms  \\\n",
            "0       -122.05     37.37                27.0       3885.0           661.0   \n",
            "1       -118.30     34.26                43.0       1510.0           310.0   \n",
            "2       -117.81     33.78                27.0       3589.0           507.0   \n",
            "3       -118.36     33.82                28.0         67.0            15.0   \n",
            "4       -119.67     36.33                19.0       1241.0           244.0   \n",
            "...         ...       ...                 ...          ...             ...   \n",
            "2995    -119.86     34.42                23.0       1450.0           642.0   \n",
            "2996    -118.14     34.06                27.0       5257.0          1082.0   \n",
            "2997    -119.70     36.30                10.0        956.0           201.0   \n",
            "2998    -117.12     34.10                40.0         96.0            14.0   \n",
            "2999    -119.63     34.42                42.0       1765.0           263.0   \n",
            "\n",
            "      population  households  median_income  median_house_value  \n",
            "0         1537.0       606.0         6.6085            344700.0  \n",
            "1          809.0       277.0         3.5990            176500.0  \n",
            "2         1484.0       495.0         5.7934            270500.0  \n",
            "3           49.0        11.0         6.1359            330000.0  \n",
            "4          850.0       237.0         2.9375             81700.0  \n",
            "...          ...         ...            ...                 ...  \n",
            "2995      1258.0       607.0         1.1790            225000.0  \n",
            "2996      3496.0      1036.0         3.3906            237200.0  \n",
            "2997       693.0       220.0         2.2895             62000.0  \n",
            "2998        46.0        14.0         3.2708            162500.0  \n",
            "2999       753.0       260.0         8.5608            500001.0  \n",
            "\n",
            "[3000 rows x 9 columns]\n"
          ]
        }
      ]
    },
    {
      "cell_type": "markdown",
      "source": [
        "MEAN"
      ],
      "metadata": {
        "id": "WX4BQk-eTAZd"
      }
    },
    {
      "cell_type": "code",
      "source": [
        "print(\"mean value of longitude\")\n",
        "print(np.mean(d['longitude']))\n",
        "print(\"mean value of latitude\")\n",
        "print(np.mean(d['latitude']))\n",
        "print(\"mean value of housing_median_age\")\n",
        "print(np.mean(d['housing_median_age']))\n",
        "print(\"mean value of total_rooms\")\n",
        "print(\"mean value of total_bedrooms\")\n",
        "print(np.mean(d['total_bedrooms']))\n",
        "print(\"mean value of population\")\n",
        "print(np.mean(d['population']))\n",
        "print(\"mean value of households\")\n",
        "print(np.mean(d['households']))\n",
        "print(\"mean value of median_income\")\n",
        "print(np.mean(d['median_income']))\n",
        "print(\"mean value of median_house_value\")\n",
        "print(np.mean(d['median_house_value']))\n",
        "\n",
        "\n",
        "\n",
        "\n",
        "\n"
      ],
      "metadata": {
        "colab": {
          "base_uri": "https://localhost:8080/"
        },
        "id": "W9KP94QhTPbt",
        "outputId": "47c3044d-2049-438b-d9af-32579264d0b2"
      },
      "execution_count": 39,
      "outputs": [
        {
          "output_type": "stream",
          "name": "stdout",
          "text": [
            "mean value of longitude\n",
            "-119.58919999999999\n",
            "mean value of latitude\n",
            "35.635389999999994\n",
            "mean value of housing_median_age\n",
            "28.845333333333333\n",
            "mean value of total_rooms\n",
            "mean value of total_bedrooms\n",
            "529.9506666666666\n",
            "mean value of population\n",
            "1402.7986666666666\n",
            "mean value of households\n",
            "489.912\n",
            "mean value of median_income\n",
            "3.8072717999999997\n",
            "mean value of median_house_value\n",
            "205846.275\n"
          ]
        }
      ]
    },
    {
      "cell_type": "markdown",
      "source": [
        "MEDIAN\n"
      ],
      "metadata": {
        "id": "mwGJnkkgw3R8"
      }
    },
    {
      "cell_type": "code",
      "source": [
        "print(\"Median value of longitude\")\n",
        "print(np.median(d['longitude']))\n",
        "print(\"Median value of latitude\")\n",
        "print(np.median(d['latitude']))\n",
        "print(\"Median value of housing_median_age\")\n",
        "print(np.median(d['housing_median_age']))\n",
        "print(\"Median value of total_rooms\")\n",
        "print(np.median(d['total_rooms']))\n",
        "print(\"Median value of total_bedrooms\")\n",
        "print(np.median(d['total_bedrooms']))\n",
        "print(\"Median value of population\")\n",
        "print(np.median(d['population']))\n",
        "print(\"Median value of households\")\n",
        "print(np.median(d['households']))\n",
        "print(\"Median value of median_income\")\n",
        "print(np.median(d['median_income']))\n",
        "print(\"Median value of median_house_value\")\n",
        "print(np.median(d['median_house_value']))"
      ],
      "metadata": {
        "colab": {
          "base_uri": "https://localhost:8080/"
        },
        "id": "oRbscHlvXutY",
        "outputId": "1b6fdef5-8457-4acd-d302-23fb4812408f"
      },
      "execution_count": 40,
      "outputs": [
        {
          "output_type": "stream",
          "name": "stdout",
          "text": [
            "Median value of longitude\n",
            "-118.485\n",
            "Median value of latitude\n",
            "34.27\n",
            "Median value of housing_median_age\n",
            "29.0\n",
            "Median value of total_rooms\n",
            "2106.0\n",
            "Median value of total_bedrooms\n",
            "437.0\n",
            "Median value of population\n",
            "1155.0\n",
            "Median value of households\n",
            "409.5\n",
            "Median value of median_income\n",
            "3.4871499999999997\n",
            "Median value of median_house_value\n",
            "177650.0\n"
          ]
        }
      ]
    },
    {
      "cell_type": "markdown",
      "source": [
        "MODE"
      ],
      "metadata": {
        "id": "96lcbUkfw9SP"
      }
    },
    {
      "cell_type": "code",
      "source": [
        "print(\"Mode value of longitude\")\n",
        "print(d['longitude'].mode())\n",
        "print(\"\")\n",
        "print(\"Mode value of housing_median_age\")\n",
        "print(d['housing_median_age'].mode())\n",
        "print(\"\")\n",
        "print(\"Mode value of total_rooms\")\n",
        "print(d['total_rooms'].mode())\n",
        "print(\"\")\n",
        "print(\"Mode value of total_bedrooms\")\n",
        "print(d['total_bedrooms'].mode())\n",
        "print(\"\")\n",
        "print(\"Mode value of population\")\n",
        "print(d['population'].mode())\n",
        "print(\"\")\n",
        "print(\"Mode value of households\")\n",
        "print(d['households'].mode())\n",
        "print(\"\")\n",
        "print(\"Mode value of median_income\")\n",
        "print(d['median_income'].mode())\n",
        "print(\"\")\n",
        "print(\"Mode value of median_house_value\")\n",
        "print(d['median_house_value'].mode())\n"
      ],
      "metadata": {
        "id": "EdNCxaSSXyTg",
        "colab": {
          "base_uri": "https://localhost:8080/"
        },
        "outputId": "d395e760-5015-4445-c4e9-744130f2deea"
      },
      "execution_count": 41,
      "outputs": [
        {
          "output_type": "stream",
          "name": "stdout",
          "text": [
            "Mode value of longitude\n",
            "0   -118.26\n",
            "1   -118.21\n",
            "Name: longitude, dtype: float64\n",
            "\n",
            "Mode value of housing_median_age\n",
            "0    52.0\n",
            "Name: housing_median_age, dtype: float64\n",
            "\n",
            "Mode value of total_rooms\n",
            "0     907.0\n",
            "1    1778.0\n",
            "2    1787.0\n",
            "3    1966.0\n",
            "Name: total_rooms, dtype: float64\n",
            "\n",
            "Mode value of total_bedrooms\n",
            "0    314.0\n",
            "Name: total_bedrooms, dtype: float64\n",
            "\n",
            "Mode value of population\n",
            "0    870.0\n",
            "Name: population, dtype: float64\n",
            "\n",
            "Mode value of households\n",
            "0    273.0\n",
            "1    375.0\n",
            "2    614.0\n",
            "Name: households, dtype: float64\n",
            "\n",
            "Mode value of median_income\n",
            "0    15.0001\n",
            "Name: median_income, dtype: float64\n",
            "\n",
            "Mode value of median_house_value\n",
            "0    500001.0\n",
            "Name: median_house_value, dtype: float64\n"
          ]
        }
      ]
    },
    {
      "cell_type": "markdown",
      "source": [
        "VARIANCE"
      ],
      "metadata": {
        "id": "BwX63cbZ4sQX"
      }
    },
    {
      "cell_type": "code",
      "source": [
        "print(\"Variance value of longitude\")\n",
        "print(np.var(d['longitude']))\n",
        "print(\"Variance value of latitude\")\n",
        "print(np.var(d['latitude']))\n",
        "print(\"Variance value of housing_median_age\")\n",
        "print(np.var(d['total_rooms']))\n",
        "print(\"\")\n",
        "print(\"Variance value of total_rooms\")\n",
        "print(np.var(d['total_rooms']))\n",
        "print(\"\")\n",
        "print(\"Variance value of total_bedrooms\")\n",
        "print(np.var(d['total_bedrooms']))\n",
        "print(\"\")\n",
        "print(\"Variance value of population\")\n",
        "print(np.var(d['population']))\n",
        "print(\"\")\n",
        "print(\"Variance value of households\")\n",
        "print(np.var(d['households']))\n",
        "print(\"\")\n",
        "print(\"Variance value of median_income\")\n",
        "print(np.var(d['median_income']))\n",
        "print(\"\")\n",
        "print(\"Variance value of median_house_value\")\n",
        "print(np.var(d['median_house_value']))\n"
      ],
      "metadata": {
        "colab": {
          "base_uri": "https://localhost:8080/"
        },
        "id": "yxXCEBCGX23t",
        "outputId": "43ac70a6-d30e-48de-e521-722950385fe4"
      },
      "execution_count": 42,
      "outputs": [
        {
          "output_type": "stream",
          "name": "stdout",
          "text": [
            "Variance value of longitude\n",
            "3.9784442266666673\n",
            "Variance value of latitude\n",
            "4.5339804479\n",
            "Variance value of housing_median_age\n",
            "4645033.750478223\n",
            "\n",
            "Variance value of total_rooms\n",
            "4645033.750478223\n",
            "\n",
            "Variance value of total_bedrooms\n",
            "172710.9642328889\n",
            "\n",
            "Variance value of population\n",
            "1061664.8941315555\n",
            "\n",
            "Variance value of households\n",
            "133489.24558933332\n",
            "\n",
            "Variance value of median_income\n",
            "3.4380673509780935\n",
            "\n",
            "Variance value of median_house_value\n",
            "12791798338.666039\n"
          ]
        }
      ]
    },
    {
      "cell_type": "markdown",
      "source": [
        "STANDARD DEVIATION"
      ],
      "metadata": {
        "id": "P_syoust8Yfe"
      }
    },
    {
      "cell_type": "code",
      "source": [
        "print(\"Standard Deviation value of longitude\")\n",
        "print(np.std(d['longitude']))\n",
        "print(\"\")\n",
        "print(\"standard deviation value of latitude\")\n",
        "print(np.std(d['latitude']))\n",
        "print(\"\")\n",
        "print(\"standard deviation value of housing_median_age\")\n",
        "print(np.std(d['housing_median_age']))\n",
        "print(\"\")\n",
        "print(\"Standard deviation value of total_rooms\")\n",
        "print(\"\")\n",
        "print(\"Standard deviation value of total_bedrooms\")\n",
        "print(\"\")\n",
        "print(\"Standard deviation value of population\")\n",
        "print(\"\")\n",
        "print(\"Standard deviation value of households\")\n",
        "print(\"\")\n",
        "print(\"Standard deviation value of median_income\")\n",
        "print(\"\")\n",
        "print(\"Standard deviation value of median_house_value\")\n",
        "print(np.std(d['median_house_value']))\n"
      ],
      "metadata": {
        "id": "Zp39iY5kX7tT",
        "colab": {
          "base_uri": "https://localhost:8080/"
        },
        "outputId": "48c842d5-f59f-4a3a-92f2-00369e123584"
      },
      "execution_count": 43,
      "outputs": [
        {
          "output_type": "stream",
          "name": "stdout",
          "text": [
            "Standard Deviation value of longitude\n",
            "1.9946037768606244\n",
            "\n",
            "standard deviation value of latitude\n",
            "2.1293145488396026\n",
            "\n",
            "standard deviation value of housing_median_age\n",
            "12.553302814620363\n",
            "\n",
            "Standard deviation value of total_rooms\n",
            "\n",
            "Standard deviation value of total_bedrooms\n",
            "\n",
            "Standard deviation value of population\n",
            "\n",
            "Standard deviation value of households\n",
            "\n",
            "Standard deviation value of median_income\n",
            "\n",
            "Standard deviation value of median_house_value\n",
            "113100.83261703266\n"
          ]
        }
      ]
    },
    {
      "cell_type": "markdown",
      "source": [
        "RANGE"
      ],
      "metadata": {
        "id": "S91jgzQJ43Et"
      }
    },
    {
      "cell_type": "code",
      "source": [
        "print(\"range value of longitude\")\n",
        "print(np.max(d['longitude']) - np.min(d['longitude']))\n",
        "print(\"\")\n",
        "print(\"range value of latitude\")\n",
        "print(np.max(d['latitude']) - np.min(d['latitude']))\n",
        "print(\"\")\n",
        "print(\"range value of housing_median_age\")\n",
        "print(np.max(d['housing_median_age']) - np.min(d['housing_median_age']))\n",
        "print(\"\")\n",
        "print(\"range value of total_rooms\")\n",
        "print(np.max(d['total_rooms']) - np.min(d['total_bedrooms']))\n",
        "print(\"\")\n",
        "print(\"range value of total_bedrooms\")\n",
        "print(np.max(d['total_bedrooms']) - np.min(d['total_bedrooms']))\n",
        "print(\"\")\n",
        "print(\"range value of population\")\n",
        "print(np.max(d['population']) - np.min(d['population']))\n",
        "print(\"\")\n",
        "print(\"range value of households\")\n",
        "print(np.max(d['households']) - np.min(d['households']))\n",
        "print(\"\")\n",
        "print(\"range value of median_income\")\n",
        "print(np.max(d['median_income']) - np.min(d['median_income']))\n"
      ],
      "metadata": {
        "colab": {
          "base_uri": "https://localhost:8080/"
        },
        "id": "wAKfMNnmYBAd",
        "outputId": "bb1fe1df-eeeb-4933-98c7-391433b46ddd"
      },
      "execution_count": 44,
      "outputs": [
        {
          "output_type": "stream",
          "name": "stdout",
          "text": [
            "range value of longitude\n",
            "9.690000000000012\n",
            "\n",
            "range value of latitude\n",
            "9.36\n",
            "\n",
            "range value of housing_median_age\n",
            "51.0\n",
            "\n",
            "range value of total_rooms\n",
            "30448.0\n",
            "\n",
            "range value of total_bedrooms\n",
            "5417.0\n",
            "\n",
            "range value of population\n",
            "11930.0\n",
            "\n",
            "range value of households\n",
            "4928.0\n",
            "\n",
            "range value of median_income\n",
            "14.5002\n"
          ]
        }
      ]
    },
    {
      "cell_type": "markdown",
      "source": [
        "INTERQUARTILE RANGE (IQR)"
      ],
      "metadata": {
        "id": "bhCx679D-ng7"
      }
    },
    {
      "cell_type": "code",
      "source": [
        "def calculate_iqr(data):\n",
        "  q1=np.percentile(data, 25)\n",
        "  q3=np.percentile(data, 75)\n",
        "  return q3-q1\n",
        "print(\"IQR value of longitude\")\n",
        "iqr_longitude = calculate_iqr(d['longitude'])\n",
        "print(iqr_longitude)\n",
        "print(\"\")\n",
        "print(\"IQR value of latitude\")\n",
        "iqr_latitude = calculate_iqr(d['latitude'])\n",
        "print(iqr_latitude)\n",
        "print(\"\")\n",
        "print(\"IQR value of housing_median_age\")\n",
        "iqr_housing_median_age = calculate_iqr(d['housing_median_age'])\n",
        "print(iqr_housing_median_age)\n",
        "print(\"\")\n",
        "print(\"IQR value of total_rooms\")\n",
        "iqr_total_rooms = calculate_iqr(d['total_rooms'])\n",
        "print(iqr_total_rooms)\n",
        "print(\"\")\n",
        "print(\"IQR value of total_bedrooms\")\n",
        "iqr_total_bedrooms = calculate_iqr(d['total_bedrooms'])\n",
        "print(iqr_total_bedrooms)\n",
        "print(\"\")\n",
        "print(\"IQR value of population\")\n",
        "iqr_population = calculate_iqr(d['population'])\n",
        "print(iqr_population)\n",
        "print(\"\")\n",
        "print(\"IQR value of households\")\n",
        "iqr_households = calculate_iqr(d['households'])\n",
        "print(iqr_households)\n",
        "print(\"\")\n",
        "print(\"IQR value of median_income\")\n",
        "iqr_median_income = calculate_iqr(d['median_income'])\n",
        "print(iqr_median_income)\n",
        "print(\"\")\n",
        "print(\"IQR value of median_house_value\")\n",
        "iqr_median_house_value = calculate_iqr(d['median_house_value'])\n",
        "print(iqr_median_house_value)\n",
        "print(\"\")\n",
        "\n",
        "\n"
      ],
      "metadata": {
        "id": "VG4DM-rw-vT0",
        "colab": {
          "base_uri": "https://localhost:8080/"
        },
        "outputId": "b7b332ac-a202-4e37-b844-9b736d6de2b1"
      },
      "execution_count": 45,
      "outputs": [
        {
          "output_type": "stream",
          "name": "stdout",
          "text": [
            "IQR value of longitude\n",
            "3.7900000000000063\n",
            "\n",
            "IQR value of latitude\n",
            "3.759999999999998\n",
            "\n",
            "IQR value of housing_median_age\n",
            "19.0\n",
            "\n",
            "IQR value of total_rooms\n",
            "1728.0\n",
            "\n",
            "IQR value of total_bedrooms\n",
            "345.0\n",
            "\n",
            "IQR value of population\n",
            "962.75\n",
            "\n",
            "IQR value of households\n",
            "324.25\n",
            "\n",
            "IQR value of median_income\n",
            "2.112475\n",
            "\n",
            "IQR value of median_house_value\n",
            "142775.0\n",
            "\n"
          ]
        }
      ]
    },
    {
      "cell_type": "markdown",
      "source": [
        "SKEWNESS"
      ],
      "metadata": {
        "id": "_8fp4K2F5dcy"
      }
    },
    {
      "cell_type": "code",
      "source": [
        "def calculate_skewness(data):\n",
        "  data = np.array(data)\n",
        "  data = data[~np.isnan(data)]\n",
        "  n = len(data)\n",
        "  if n<3:\n",
        "    return np.nan\n",
        "  mean = np.mean(data)\n",
        "  std_dev = np.std(data, ddof=1)\n",
        "  if std_dev ==0:\n",
        "    return np.nan\n",
        "  data1 = n / ((n-1) * (n-2))\n",
        "  data2 = np.sum(((data - mean) / std_dev) ** 3)\n",
        "  skewness = data1 * data2\n",
        "  return skewness\n",
        "\n",
        "\n"
      ],
      "metadata": {
        "id": "thoSagW25lG9"
      },
      "execution_count": 46,
      "outputs": []
    },
    {
      "cell_type": "code",
      "source": [
        "print(\"skewness value of longitude\")\n",
        "skewness_longitude = calculate_skewness(d['longitude'])\n",
        "print(skewness_longitude)\n",
        "print(\"\")\n",
        "print(\"skewness value of latitude\")\n",
        "skewness_latitude = calculate_skewness(d['latitude'])\n",
        "print(skewness_latitude)\n",
        "print(\"\")\n",
        "print(\"skewness value of housing_median_age\")\n",
        "skewness_housing_median_age = calculate_skewness(d['housing_median_age'])\n",
        "print(skewness_housing_median_age)\n",
        "print(\"\")\n",
        "print(\"skewness value of total_rooms\")\n",
        "skewness_total_rooms = calculate_skewness(d['total_rooms'])\n",
        "print(skewness_total_rooms)\n",
        "print(\"\")\n",
        "print(\"skewness value of total_bedrooms\")\n",
        "skewness_total_bedrooms = calculate_skewness(d[ 'total_bedrooms'])\n",
        "print(skewness_total_bedrooms)\n",
        "print(\"\")\n",
        "print(\"skewness value of population\")\n",
        "skewness_population = calculate_skewness(d['population'])\n",
        "print(skewness_population)\n",
        "print(\"\")\n",
        "print(\"skewness value of households\")\n",
        "skewness_households = calculate_skewness(d['households'])\n",
        "print(skewness_households)\n",
        "print(\"\")\n",
        "print(\"skewness value of median_income\")\n",
        "skewness_median_income = calculate_skewness(d['median_income'])\n",
        "print(skewness_median_income)\n",
        "print(\"\")\n",
        "print(\"skewness value of median_house_value\")\n",
        "skewness_median_house_value = calculate_skewness(d['median_house_value'])\n",
        "print(skewness_median_house_value)\n",
        "print(\"\")\n",
        "\n",
        "\n"
      ],
      "metadata": {
        "colab": {
          "base_uri": "https://localhost:8080/"
        },
        "id": "otQfnIJ-7NU4",
        "outputId": "9a299abd-fb2e-48f8-a90b-9c00855379fb"
      },
      "execution_count": 47,
      "outputs": [
        {
          "output_type": "stream",
          "name": "stdout",
          "text": [
            "skewness value of longitude\n",
            "-0.29785763262779996\n",
            "\n",
            "skewness value of latitude\n",
            "0.45981593679052085\n",
            "\n",
            "skewness value of housing_median_age\n",
            "0.0185131211599916\n",
            "\n",
            "skewness value of total_rooms\n",
            "4.167637358501556\n",
            "\n",
            "skewness value of total_bedrooms\n",
            "3.8633931890458686\n",
            "\n",
            "skewness value of population\n",
            "2.949670690828887\n",
            "\n",
            "skewness value of households\n",
            "3.559753411646291\n",
            "\n",
            "skewness value of median_income\n",
            "1.6985117348319874\n",
            "\n",
            "skewness value of median_house_value\n",
            "0.9895619132015641\n",
            "\n"
          ]
        }
      ]
    },
    {
      "cell_type": "markdown",
      "source": [
        "KURTOSIS OF X AND Y"
      ],
      "metadata": {
        "id": "BBwtO6WLAPHE"
      }
    },
    {
      "cell_type": "code",
      "source": [
        "def kurtosis(arr):\n",
        "  N=len(arr)\n",
        "  mean = np.mean(arr)\n",
        "  ave = np.sum((arr -mean)**4) / N\n",
        "  squ = (np.sum((arr - mean)**2) / N)**2\n",
        "  kurtosis = ave / squ -3\n",
        "  return kurtosis\n",
        "\n",
        "\n",
        "\n",
        "\n",
        "print(\"Kurtosis value of longitude\")\n",
        "longitude = kurtosis(d['longitude'])\n",
        "print(longitude)\n",
        "print(\"\")\n",
        "print(\"Kurtosis value of latitude\")\n",
        "latitude = kurtosis(d['latitude'])\n",
        "print(latitude)\n",
        "print(\"\")\n",
        "print(\"Kurtosis value of housing_median_age\")\n",
        "housing_median_age = kurtosis(d['housing_median_age'])\n",
        "print(housing_median_age)\n",
        "print(\"\")\n",
        "print(\"Kurtosis value of total_rooms\")\n",
        "total_rooms = kurtosis(d['total_rooms'])\n",
        "print(total_rooms)\n",
        "print(\"\")\n",
        "print(\"Kurtosis value of total_bedrooms\")\n",
        "total_bedrooms = kurtosis(d['total_bedrooms'])\n",
        "print(total_bedrooms)\n",
        "print(\"\")\n",
        "print(\"Kurtosis value of population\")\n",
        "population = kurtosis(d['population'])\n",
        "print(population)\n",
        "print(\"\")\n",
        "print(\"Kurtosis value of households\")\n",
        "households = kurtosis(d['households'])\n",
        "print(households)\n",
        "print(\"\")\n",
        "print(\"Kurtosis value of median_income\")\n",
        "median_income = kurtosis(d['median_income'])\n",
        "print(median_income)\n",
        "print(\"\")\n",
        "print(\"Kurtosis value of median_house_value\")\n",
        "median_house_value = kurtosis(d['median_house_value'])\n",
        "print(median_house_value)"
      ],
      "metadata": {
        "id": "VQrQyDZZZVkT",
        "colab": {
          "base_uri": "https://localhost:8080/"
        },
        "outputId": "c95b3fe7-a1aa-48c4-cdd2-3325d1619327"
      },
      "execution_count": 55,
      "outputs": [
        {
          "output_type": "stream",
          "name": "stdout",
          "text": [
            "Kurtosis value of longitude\n",
            "-1.3625007669256197\n",
            "\n",
            "Kurtosis value of latitude\n",
            "-1.1244987241902247\n",
            "\n",
            "Kurtosis value of housing_median_age\n",
            "-0.8044440474433032\n",
            "\n",
            "Kurtosis value of total_rooms\n",
            "32.04446666907792\n",
            "\n",
            "Kurtosis value of total_bedrooms\n",
            "28.48753189248459\n",
            "\n",
            "Kurtosis value of population\n",
            "16.41387618265221\n",
            "\n",
            "Kurtosis value of households\n",
            "26.18366680809118\n",
            "\n",
            "Kurtosis value of median_income\n",
            "5.614812216724314\n",
            "\n",
            "Kurtosis value of median_house_value\n",
            "0.3927409720063544\n"
          ]
        }
      ]
    }
  ]
}