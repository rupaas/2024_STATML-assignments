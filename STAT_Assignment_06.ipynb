{
  "nbformat": 4,
  "nbformat_minor": 0,
  "metadata": {
    "colab": {
      "provenance": []
    },
    "kernelspec": {
      "name": "python3",
      "display_name": "Python 3"
    },
    "language_info": {
      "name": "python"
    }
  },
  "cells": [
    {
      "cell_type": "markdown",
      "source": [
        "**1.Student Data**"
      ],
      "metadata": {
        "id": "HiI5LVoxHVSq"
      }
    },
    {
      "cell_type": "code",
      "source": [
        "import pandas as pd\n",
        "import numpy as np"
      ],
      "metadata": {
        "id": "UBmL6gjfMr6u"
      },
      "execution_count": 20,
      "outputs": []
    },
    {
      "cell_type": "code",
      "source": [
        "d = pd.read_csv('/content/student_data.csv')\n",
        "print(d)"
      ],
      "metadata": {
        "id": "UVr-DewFM0RQ",
        "colab": {
          "base_uri": "https://localhost:8080/"
        },
        "outputId": "d73d0346-f573-4e63-8525-6fd810fb18bf"
      },
      "execution_count": 21,
      "outputs": [
        {
          "output_type": "stream",
          "name": "stdout",
          "text": [
            "   Study Hours per Week  Class Attendance (%)  Previous Exam Score (%)  \\\n",
            "0                    10                    90                       85   \n",
            "1                     5                    60                       70   \n",
            "2                    15                    95                       90   \n",
            "3                     2                    30                       50   \n",
            "4                    12                    85                       88   \n",
            "5                     8                    75                       65   \n",
            "6                    14                    92                       93   \n",
            "7                     3                    50                       55   \n",
            "8                    11                    88                       80   \n",
            "9                     6                    65                       60   \n",
            "\n",
            "   Participation in Group Study  Submission of Assignments (%)  Pass/Fail  \n",
            "0                             1                            100          1  \n",
            "1                             0                             80          0  \n",
            "2                             1                            100          1  \n",
            "3                             0                             40          0  \n",
            "4                             1                             90          1  \n",
            "5                             0                             70          0  \n",
            "6                             1                             95          1  \n",
            "7                             0                             60          0  \n",
            "8                             1                             85          1  \n",
            "9                             0                             75          0  \n"
          ]
        }
      ]
    },
    {
      "cell_type": "code",
      "source": [
        "y = d['Pass/Fail']\n",
        "X = d.drop('Pass/Fail', axis=1)\n",
        "print(\"Features:\", X)\n",
        "print(\"Target:\", y)\n",
        "# Normalize the data\n",
        "X = (X - X.min()) / (X.max() - X.min())\n",
        "X.fillna(0, inplace=True)\n",
        "print(\"Normalized Features:\", X)"
      ],
      "metadata": {
        "id": "rRsrULzeM--R",
        "colab": {
          "base_uri": "https://localhost:8080/"
        },
        "outputId": "49401b59-2ec4-492d-992b-7230fc189e4d"
      },
      "execution_count": 22,
      "outputs": [
        {
          "output_type": "stream",
          "name": "stdout",
          "text": [
            "Features:    Study Hours per Week  Class Attendance (%)  Previous Exam Score (%)  \\\n",
            "0                    10                    90                       85   \n",
            "1                     5                    60                       70   \n",
            "2                    15                    95                       90   \n",
            "3                     2                    30                       50   \n",
            "4                    12                    85                       88   \n",
            "5                     8                    75                       65   \n",
            "6                    14                    92                       93   \n",
            "7                     3                    50                       55   \n",
            "8                    11                    88                       80   \n",
            "9                     6                    65                       60   \n",
            "\n",
            "   Participation in Group Study  Submission of Assignments (%)  \n",
            "0                             1                            100  \n",
            "1                             0                             80  \n",
            "2                             1                            100  \n",
            "3                             0                             40  \n",
            "4                             1                             90  \n",
            "5                             0                             70  \n",
            "6                             1                             95  \n",
            "7                             0                             60  \n",
            "8                             1                             85  \n",
            "9                             0                             75  \n",
            "Target: 0    1\n",
            "1    0\n",
            "2    1\n",
            "3    0\n",
            "4    1\n",
            "5    0\n",
            "6    1\n",
            "7    0\n",
            "8    1\n",
            "9    0\n",
            "Name: Pass/Fail, dtype: int64\n",
            "Normalized Features:    Study Hours per Week  Class Attendance (%)  Previous Exam Score (%)  \\\n",
            "0              0.615385              0.923077                 0.813953   \n",
            "1              0.230769              0.461538                 0.465116   \n",
            "2              1.000000              1.000000                 0.930233   \n",
            "3              0.000000              0.000000                 0.000000   \n",
            "4              0.769231              0.846154                 0.883721   \n",
            "5              0.461538              0.692308                 0.348837   \n",
            "6              0.923077              0.953846                 1.000000   \n",
            "7              0.076923              0.307692                 0.116279   \n",
            "8              0.692308              0.892308                 0.697674   \n",
            "9              0.307692              0.538462                 0.232558   \n",
            "\n",
            "   Participation in Group Study  Submission of Assignments (%)  \n",
            "0                           1.0                       1.000000  \n",
            "1                           0.0                       0.666667  \n",
            "2                           1.0                       1.000000  \n",
            "3                           0.0                       0.000000  \n",
            "4                           1.0                       0.833333  \n",
            "5                           0.0                       0.500000  \n",
            "6                           1.0                       0.916667  \n",
            "7                           0.0                       0.333333  \n",
            "8                           1.0                       0.750000  \n",
            "9                           0.0                       0.583333  \n"
          ]
        }
      ]
    },
    {
      "cell_type": "code",
      "source": [
        "def initialize_parameters(n_features):\n",
        "      weights = np.zeros(n_features)\n",
        "      bias = 0\n",
        "      learning_rate = 0.01\n",
        "      return weights, bias, learning_rate\n",
        "n_features = X.shape[1]\n",
        "weights, bias, learning_rate = initialize_parameters(n_features)"
      ],
      "metadata": {
        "id": "alPqfB7-NA73"
      },
      "execution_count": 23,
      "outputs": []
    },
    {
      "cell_type": "code",
      "source": [
        "def perceptron_train(X, y, weights, bias, learning_rate, epochs):\n",
        "  for epoch in range(epochs):\n",
        "    for i in range(len(y)):\n",
        "      linear_output = np.dot(X.iloc[i], weights) + bias\n",
        "      prediction = 1 if linear_output >= 0 else 0\n",
        "      error = y.iloc[i] - prediction\n",
        "      weights += learning_rate * error * X.iloc[i]\n",
        "    if epoch % 100 == 0:\n",
        "      print(f'Epoch {epoch}: Weights: {weights}, Bias: {bias}')\n",
        "    return weights, bias\n",
        "epochs = 1000\n",
        "weights, bias = perceptron_train(X, y, weights, bias, learning_rate, epochs)\n",
        "\n",
        "print(\"Trained Weights:\", weights)\n",
        "\n"
      ],
      "metadata": {
        "id": "Snho79mMNGw2",
        "colab": {
          "base_uri": "https://localhost:8080/"
        },
        "outputId": "7b07fa99-ba80-4f3f-deec-a3799d7bdec5"
      },
      "execution_count": 24,
      "outputs": [
        {
          "output_type": "stream",
          "name": "stdout",
          "text": [
            "Epoch 0: Weights: Study Hours per Week             0.003077\n",
            "Class Attendance (%)            -0.001538\n",
            "Previous Exam Score (%)          0.001163\n",
            "Participation in Group Study     0.010000\n",
            "Submission of Assignments (%)   -0.001667\n",
            "Name: 0, dtype: float64, Bias: 0\n",
            "Trained Weights: Study Hours per Week             0.003077\n",
            "Class Attendance (%)            -0.001538\n",
            "Previous Exam Score (%)          0.001163\n",
            "Participation in Group Study     0.010000\n",
            "Submission of Assignments (%)   -0.001667\n",
            "Name: 0, dtype: float64\n"
          ]
        }
      ]
    },
    {
      "cell_type": "code",
      "source": [
        "def predict(X, weights, bias):\n",
        "  linear_output = np.dot(X, weights) + bias\n",
        "  return (linear_output >= 0).astype(int)\n",
        "predictions = predict(X, weights, bias)\n",
        "accuracy = np.mean(predictions == y) * 100\n",
        "\n",
        "print(\"Predictions:\", predictions)\n",
        "print(y.values)\n",
        "print(\"\\nAccuracy: {:.2f}%\".format(accuracy))\n",
        "print(weights)\n"
      ],
      "metadata": {
        "id": "RTmMU2WeNLQ7",
        "colab": {
          "base_uri": "https://localhost:8080/"
        },
        "outputId": "f9b59d15-18df-42b6-d2cd-86b86346ed8f"
      },
      "execution_count": 25,
      "outputs": [
        {
          "output_type": "stream",
          "name": "stdout",
          "text": [
            "Predictions: [1 0 1 1 1 0 1 0 1 0]\n",
            "[1 0 1 0 1 0 1 0 1 0]\n",
            "\n",
            "Accuracy: 90.00%\n",
            "Study Hours per Week             0.003077\n",
            "Class Attendance (%)            -0.001538\n",
            "Previous Exam Score (%)          0.001163\n",
            "Participation in Group Study     0.010000\n",
            "Submission of Assignments (%)   -0.001667\n",
            "Name: 0, dtype: float64\n"
          ]
        }
      ]
    },
    {
      "cell_type": "markdown",
      "source": [
        "**2.Diabetes**"
      ],
      "metadata": {
        "id": "hYv6xeDeNem3"
      }
    },
    {
      "cell_type": "code",
      "source": [
        "df = pd.read_csv('/diabetes_data_upload.csv')\n",
        "print(df)"
      ],
      "metadata": {
        "id": "ERee_Tj0NZ1o",
        "colab": {
          "base_uri": "https://localhost:8080/"
        },
        "outputId": "bd45c669-abb3-44a0-a05f-269a2c406a34"
      },
      "execution_count": 26,
      "outputs": [
        {
          "output_type": "stream",
          "name": "stdout",
          "text": [
            "     Age  Gender Polyuria Polydipsia sudden weight loss weakness Polyphagia  \\\n",
            "0     40    Male       No        Yes                 No      Yes         No   \n",
            "1     58    Male       No         No                 No      Yes         No   \n",
            "2     41    Male      Yes         No                 No      Yes        Yes   \n",
            "3     45    Male       No         No                Yes      Yes        Yes   \n",
            "4     60    Male      Yes        Yes                Yes      Yes        Yes   \n",
            "..   ...     ...      ...        ...                ...      ...        ...   \n",
            "515   39  Female      Yes        Yes                Yes       No        Yes   \n",
            "516   48  Female      Yes        Yes                Yes      Yes        Yes   \n",
            "517   58  Female      Yes        Yes                Yes      Yes        Yes   \n",
            "518   32  Female       No         No                 No      Yes         No   \n",
            "519   42    Male       No         No                 No       No         No   \n",
            "\n",
            "    Genital thrush visual blurring Itching Irritability delayed healing  \\\n",
            "0               No              No     Yes           No             Yes   \n",
            "1               No             Yes      No           No              No   \n",
            "2               No              No     Yes           No             Yes   \n",
            "3              Yes              No     Yes           No             Yes   \n",
            "4               No             Yes     Yes          Yes             Yes   \n",
            "..             ...             ...     ...          ...             ...   \n",
            "515             No              No     Yes           No             Yes   \n",
            "516             No              No     Yes          Yes             Yes   \n",
            "517             No             Yes      No           No              No   \n",
            "518             No             Yes     Yes           No             Yes   \n",
            "519             No              No      No           No              No   \n",
            "\n",
            "    partial paresis muscle stiffness Alopecia Obesity     class  \n",
            "0                No              Yes      Yes     Yes  Positive  \n",
            "1               Yes               No      Yes      No  Positive  \n",
            "2                No              Yes      Yes      No  Positive  \n",
            "3                No               No       No      No  Positive  \n",
            "4               Yes              Yes      Yes     Yes  Positive  \n",
            "..              ...              ...      ...     ...       ...  \n",
            "515             Yes               No       No      No  Positive  \n",
            "516             Yes               No       No      No  Positive  \n",
            "517             Yes              Yes       No     Yes  Positive  \n",
            "518              No               No      Yes      No  Negative  \n",
            "519              No               No       No      No  Negative  \n",
            "\n",
            "[520 rows x 17 columns]\n"
          ]
        }
      ]
    },
    {
      "cell_type": "code",
      "source": [
        "y = df['class']\n",
        "x = df.drop('class', axis=1)\n",
        "print(\"Features:\", x)\n",
        "print(\"Target:\", y)"
      ],
      "metadata": {
        "id": "1k6a9rl5NvmF",
        "colab": {
          "base_uri": "https://localhost:8080/"
        },
        "outputId": "a53edc51-dd04-4ae8-af8f-100a49fe2952"
      },
      "execution_count": 27,
      "outputs": [
        {
          "output_type": "stream",
          "name": "stdout",
          "text": [
            "Features:      Age  Gender Polyuria Polydipsia sudden weight loss weakness Polyphagia  \\\n",
            "0     40    Male       No        Yes                 No      Yes         No   \n",
            "1     58    Male       No         No                 No      Yes         No   \n",
            "2     41    Male      Yes         No                 No      Yes        Yes   \n",
            "3     45    Male       No         No                Yes      Yes        Yes   \n",
            "4     60    Male      Yes        Yes                Yes      Yes        Yes   \n",
            "..   ...     ...      ...        ...                ...      ...        ...   \n",
            "515   39  Female      Yes        Yes                Yes       No        Yes   \n",
            "516   48  Female      Yes        Yes                Yes      Yes        Yes   \n",
            "517   58  Female      Yes        Yes                Yes      Yes        Yes   \n",
            "518   32  Female       No         No                 No      Yes         No   \n",
            "519   42    Male       No         No                 No       No         No   \n",
            "\n",
            "    Genital thrush visual blurring Itching Irritability delayed healing  \\\n",
            "0               No              No     Yes           No             Yes   \n",
            "1               No             Yes      No           No              No   \n",
            "2               No              No     Yes           No             Yes   \n",
            "3              Yes              No     Yes           No             Yes   \n",
            "4               No             Yes     Yes          Yes             Yes   \n",
            "..             ...             ...     ...          ...             ...   \n",
            "515             No              No     Yes           No             Yes   \n",
            "516             No              No     Yes          Yes             Yes   \n",
            "517             No             Yes      No           No              No   \n",
            "518             No             Yes     Yes           No             Yes   \n",
            "519             No              No      No           No              No   \n",
            "\n",
            "    partial paresis muscle stiffness Alopecia Obesity  \n",
            "0                No              Yes      Yes     Yes  \n",
            "1               Yes               No      Yes      No  \n",
            "2                No              Yes      Yes      No  \n",
            "3                No               No       No      No  \n",
            "4               Yes              Yes      Yes     Yes  \n",
            "..              ...              ...      ...     ...  \n",
            "515             Yes               No       No      No  \n",
            "516             Yes               No       No      No  \n",
            "517             Yes              Yes       No     Yes  \n",
            "518              No               No      Yes      No  \n",
            "519              No               No       No      No  \n",
            "\n",
            "[520 rows x 16 columns]\n",
            "Target: 0      Positive\n",
            "1      Positive\n",
            "2      Positive\n",
            "3      Positive\n",
            "4      Positive\n",
            "         ...   \n",
            "515    Positive\n",
            "516    Positive\n",
            "517    Positive\n",
            "518    Negative\n",
            "519    Negative\n",
            "Name: class, Length: 520, dtype: object\n"
          ]
        }
      ]
    },
    {
      "cell_type": "code",
      "source": [
        "yes_no_columns = ['Polyuria', 'Polydipsia', 'sudden weight loss', 'weakness', 'Polyphagia',\n",
        "                  'Genital thrush', 'visual blurring', 'Itching', 'Irritability',\n",
        "                                    'delayed healing', 'partial paresis', 'muscle stiffness', 'Alopecia', 'Obesity']\n",
        "x = x.replace({'Gender': {'Male': 0, 'Female': 1}})\n",
        "x[yes_no_columns] = x[yes_no_columns].replace({'Yes': 1, 'No': 0})\n",
        "print(x)\n",
        "y = y.replace({'Positive': 0, 'Negative': 1})\n",
        "print(y)"
      ],
      "metadata": {
        "id": "ZViRcfYtNzSu",
        "colab": {
          "base_uri": "https://localhost:8080/"
        },
        "outputId": "52ef8436-5053-400a-9ba7-a9fb3380881b"
      },
      "execution_count": 28,
      "outputs": [
        {
          "output_type": "stream",
          "name": "stdout",
          "text": [
            "     Age  Gender  Polyuria  Polydipsia  sudden weight loss  weakness  \\\n",
            "0     40       0         0           1                   0         1   \n",
            "1     58       0         0           0                   0         1   \n",
            "2     41       0         1           0                   0         1   \n",
            "3     45       0         0           0                   1         1   \n",
            "4     60       0         1           1                   1         1   \n",
            "..   ...     ...       ...         ...                 ...       ...   \n",
            "515   39       1         1           1                   1         0   \n",
            "516   48       1         1           1                   1         1   \n",
            "517   58       1         1           1                   1         1   \n",
            "518   32       1         0           0                   0         1   \n",
            "519   42       0         0           0                   0         0   \n",
            "\n",
            "     Polyphagia  Genital thrush  visual blurring  Itching  Irritability  \\\n",
            "0             0               0                0        1             0   \n",
            "1             0               0                1        0             0   \n",
            "2             1               0                0        1             0   \n",
            "3             1               1                0        1             0   \n",
            "4             1               0                1        1             1   \n",
            "..          ...             ...              ...      ...           ...   \n",
            "515           1               0                0        1             0   \n",
            "516           1               0                0        1             1   \n",
            "517           1               0                1        0             0   \n",
            "518           0               0                1        1             0   \n",
            "519           0               0                0        0             0   \n",
            "\n",
            "     delayed healing  partial paresis  muscle stiffness  Alopecia  Obesity  \n",
            "0                  1                0                 1         1        1  \n",
            "1                  0                1                 0         1        0  \n",
            "2                  1                0                 1         1        0  \n",
            "3                  1                0                 0         0        0  \n",
            "4                  1                1                 1         1        1  \n",
            "..               ...              ...               ...       ...      ...  \n",
            "515                1                1                 0         0        0  \n",
            "516                1                1                 0         0        0  \n",
            "517                0                1                 1         0        1  \n",
            "518                1                0                 0         1        0  \n",
            "519                0                0                 0         0        0  \n",
            "\n",
            "[520 rows x 16 columns]\n",
            "0      0\n",
            "1      0\n",
            "2      0\n",
            "3      0\n",
            "4      0\n",
            "      ..\n",
            "515    0\n",
            "516    0\n",
            "517    0\n",
            "518    1\n",
            "519    1\n",
            "Name: class, Length: 520, dtype: int64\n"
          ]
        }
      ]
    },
    {
      "cell_type": "code",
      "source": [
        "# Normalize the data\n",
        "x = (x - x.min()) / (x.max() - x.min())\n",
        "# Fill null values (if any)\n",
        "x.fillna(0, inplace=True)\n",
        "print(\"Normalized Features:\", x)"
      ],
      "metadata": {
        "id": "ISrrZ-6DN6zH",
        "colab": {
          "base_uri": "https://localhost:8080/"
        },
        "outputId": "42f46cdb-fde5-461f-d12e-6620edb69b49"
      },
      "execution_count": 29,
      "outputs": [
        {
          "output_type": "stream",
          "name": "stdout",
          "text": [
            "Normalized Features:           Age  Gender  Polyuria  Polydipsia  sudden weight loss  weakness  \\\n",
            "0    0.324324     0.0       0.0         1.0                 0.0       1.0   \n",
            "1    0.567568     0.0       0.0         0.0                 0.0       1.0   \n",
            "2    0.337838     0.0       1.0         0.0                 0.0       1.0   \n",
            "3    0.391892     0.0       0.0         0.0                 1.0       1.0   \n",
            "4    0.594595     0.0       1.0         1.0                 1.0       1.0   \n",
            "..        ...     ...       ...         ...                 ...       ...   \n",
            "515  0.310811     1.0       1.0         1.0                 1.0       0.0   \n",
            "516  0.432432     1.0       1.0         1.0                 1.0       1.0   \n",
            "517  0.567568     1.0       1.0         1.0                 1.0       1.0   \n",
            "518  0.216216     1.0       0.0         0.0                 0.0       1.0   \n",
            "519  0.351351     0.0       0.0         0.0                 0.0       0.0   \n",
            "\n",
            "     Polyphagia  Genital thrush  visual blurring  Itching  Irritability  \\\n",
            "0           0.0             0.0              0.0      1.0           0.0   \n",
            "1           0.0             0.0              1.0      0.0           0.0   \n",
            "2           1.0             0.0              0.0      1.0           0.0   \n",
            "3           1.0             1.0              0.0      1.0           0.0   \n",
            "4           1.0             0.0              1.0      1.0           1.0   \n",
            "..          ...             ...              ...      ...           ...   \n",
            "515         1.0             0.0              0.0      1.0           0.0   \n",
            "516         1.0             0.0              0.0      1.0           1.0   \n",
            "517         1.0             0.0              1.0      0.0           0.0   \n",
            "518         0.0             0.0              1.0      1.0           0.0   \n",
            "519         0.0             0.0              0.0      0.0           0.0   \n",
            "\n",
            "     delayed healing  partial paresis  muscle stiffness  Alopecia  Obesity  \n",
            "0                1.0              0.0               1.0       1.0      1.0  \n",
            "1                0.0              1.0               0.0       1.0      0.0  \n",
            "2                1.0              0.0               1.0       1.0      0.0  \n",
            "3                1.0              0.0               0.0       0.0      0.0  \n",
            "4                1.0              1.0               1.0       1.0      1.0  \n",
            "..               ...              ...               ...       ...      ...  \n",
            "515              1.0              1.0               0.0       0.0      0.0  \n",
            "516              1.0              1.0               0.0       0.0      0.0  \n",
            "517              0.0              1.0               1.0       0.0      1.0  \n",
            "518              1.0              0.0               0.0       1.0      0.0  \n",
            "519              0.0              0.0               0.0       0.0      0.0  \n",
            "\n",
            "[520 rows x 16 columns]\n"
          ]
        }
      ]
    },
    {
      "cell_type": "code",
      "source": [
        "def initialize_parameters(n_features):\n",
        "  weights = np.zeros(n_features)\n",
        "  bias = 0\n",
        "  learning_rate = 0.01\n",
        "  return weights, bias, learning_rate\n",
        "n_features = x.shape[1]\n",
        "weights, bias, learning_rate = initialize_parameters(n_features)"
      ],
      "metadata": {
        "id": "xn80Z2U1N-87"
      },
      "execution_count": 32,
      "outputs": []
    },
    {
      "cell_type": "code",
      "source": [
        "def perceptron_train(X, y, weights, bias, learning_rate, epochs):\n",
        "  for epoch in range(epochs):\n",
        "    for i in range(len(y)):\n",
        "      linear_output = np.dot(x.iloc[i], weights) + bias\n",
        "      prediction = 1 if linear_output >= 0 else 0\n",
        "      error = y.iloc[i] - prediction\n",
        "      weights += learning_rate * error * x.iloc[i]\n",
        "    if epoch % 100 == 0:\n",
        "      print(f'Epoch {epoch}: Weights: {weights}, Bias: {bias}')\n",
        "    return weights, bias\n",
        "epochs = 1000\n",
        "weights, bias = perceptron_train(x, y, weights, bias, learning_rate, epochs)\n",
        "print(\"Trained Weights:\", weights)\n"
      ],
      "metadata": {
        "id": "PfQM4q9dOM-w",
        "colab": {
          "base_uri": "https://localhost:8080/"
        },
        "outputId": "2edf8b42-abba-498c-cb79-80cd9ba94a02"
      },
      "execution_count": 36,
      "outputs": [
        {
          "output_type": "stream",
          "name": "stdout",
          "text": [
            "Epoch 0: Weights: Age                   0.046892\n",
            "Gender               -0.020000\n",
            "Polyuria             -0.050000\n",
            "Polydipsia           -0.050000\n",
            "sudden weight loss   -0.010000\n",
            "weakness             -0.020000\n",
            "Polyphagia            0.010000\n",
            "Genital thrush       -0.010000\n",
            "visual blurring       0.020000\n",
            "Itching               0.020000\n",
            "Irritability         -0.020000\n",
            "delayed healing       0.030000\n",
            "partial paresis       0.000000\n",
            "muscle stiffness      0.020000\n",
            "Alopecia              0.010000\n",
            "Obesity               0.020000\n",
            "Name: 0, dtype: float64, Bias: 0\n",
            "Trained Weights: Age                   0.046892\n",
            "Gender               -0.020000\n",
            "Polyuria             -0.050000\n",
            "Polydipsia           -0.050000\n",
            "sudden weight loss   -0.010000\n",
            "weakness             -0.020000\n",
            "Polyphagia            0.010000\n",
            "Genital thrush       -0.010000\n",
            "visual blurring       0.020000\n",
            "Itching               0.020000\n",
            "Irritability         -0.020000\n",
            "delayed healing       0.030000\n",
            "partial paresis       0.000000\n",
            "muscle stiffness      0.020000\n",
            "Alopecia              0.010000\n",
            "Obesity               0.020000\n",
            "Name: 0, dtype: float64\n"
          ]
        }
      ]
    },
    {
      "cell_type": "code",
      "source": [
        "def predict(x, weights, bias):\n",
        "  linear_output = np.dot(x, weights) + bias\n",
        "  return (linear_output >= 0).astype(int)\n",
        "predictions = predict(x, weights, bias)\n",
        "accuracy = np.mean(predictions == y) * 100\n",
        "print(\"\\nAccuracy: {:.2f}%\".format(accuracy))\n",
        "print(weights)"
      ],
      "metadata": {
        "id": "NIhkXC_EORZx",
        "colab": {
          "base_uri": "https://localhost:8080/"
        },
        "outputId": "24d5a98f-5334-41cd-dd59-a282afbacb96"
      },
      "execution_count": 35,
      "outputs": [
        {
          "output_type": "stream",
          "name": "stdout",
          "text": [
            "\n",
            "Accuracy: 81.54%\n",
            "Age                   0.026757\n",
            "Gender               -0.030000\n",
            "Polyuria             -0.040000\n",
            "Polydipsia           -0.030000\n",
            "sudden weight loss    0.000000\n",
            "weakness             -0.010000\n",
            "Polyphagia            0.020000\n",
            "Genital thrush        0.000000\n",
            "visual blurring       0.010000\n",
            "Itching               0.020000\n",
            "Irritability         -0.010000\n",
            "delayed healing       0.010000\n",
            "partial paresis       0.000000\n",
            "muscle stiffness      0.020000\n",
            "Alopecia              0.000000\n",
            "Obesity               0.010000\n",
            "Name: 0, dtype: float64\n"
          ]
        }
      ]
    }
  ]
}